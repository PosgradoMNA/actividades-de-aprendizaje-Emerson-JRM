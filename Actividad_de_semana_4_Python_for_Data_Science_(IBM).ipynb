{
  "nbformat": 4,
  "nbformat_minor": 0,
  "metadata": {
    "colab": {
      "provenance": [],
      "authorship_tag": "ABX9TyOajaH6rd7w9Geh8rhpqUri",
      "include_colab_link": true
    },
    "kernelspec": {
      "name": "python3",
      "display_name": "Python 3"
    },
    "language_info": {
      "name": "python"
    }
  },
  "cells": [
    {
      "cell_type": "markdown",
      "metadata": {
        "id": "view-in-github",
        "colab_type": "text"
      },
      "source": [
        "<a href=\"https://colab.research.google.com/github/PosgradoMNA/actividades-de-aprendizaje-Emerson-JRM/blob/main/Actividad_de_semana_4_Python_for_Data_Science_(IBM).ipynb\" target=\"_parent\"><img src=\"https://colab.research.google.com/assets/colab-badge.svg\" alt=\"Open In Colab\"/></a>"
      ]
    },
    {
      "cell_type": "markdown",
      "source": [
        "1.- Ejemplo de como abrir un archivo cargado en COLAB\n",
        "\n"
      ],
      "metadata": {
        "id": "DO2oMTmCw9E7"
      }
    },
    {
      "cell_type": "code",
      "source": [
        "# Read the Example1.txt\n",
        "example1 = \"/content/Hola_Amigo.txt\"\n",
        "\n",
        "file1 = open(example1, \"r\")\n",
        "\n",
        "print(\"Hola_Amigo.txt\")\n"
      ],
      "metadata": {
        "colab": {
          "base_uri": "https://localhost:8080/"
        },
        "id": "hxBK2g4Mny2k",
        "outputId": "3915b7cb-e07b-4c96-b954-be69dd3af32f"
      },
      "execution_count": 62,
      "outputs": [
        {
          "output_type": "stream",
          "name": "stdout",
          "text": [
            "Hola_Amigo.txt\n"
          ]
        }
      ]
    },
    {
      "cell_type": "markdown",
      "source": [
        "2.-Podemos ver atributos como el nombre del file"
      ],
      "metadata": {
        "id": "t-6pjuTBxg-U"
      }
    },
    {
      "cell_type": "code",
      "source": [
        "file1.name\n"
      ],
      "metadata": {
        "colab": {
          "base_uri": "https://localhost:8080/",
          "height": 35
        },
        "id": "JLh-NFo6xpB2",
        "outputId": "e28d9058-ef1a-46b4-f51b-ce1254d5a394"
      },
      "execution_count": 63,
      "outputs": [
        {
          "output_type": "execute_result",
          "data": {
            "text/plain": [
              "'/content/Hola_Amigo.txt'"
            ],
            "application/vnd.google.colaboratory.intrinsic+json": {
              "type": "string"
            }
          },
          "metadata": {},
          "execution_count": 63
        }
      ]
    },
    {
      "cell_type": "markdown",
      "source": [
        "3.-Podemos ver atributos como el tipo"
      ],
      "metadata": {
        "id": "rsGCdjQ0xubi"
      }
    },
    {
      "cell_type": "code",
      "source": [
        "file1.mode\n"
      ],
      "metadata": {
        "colab": {
          "base_uri": "https://localhost:8080/",
          "height": 35
        },
        "id": "wrSqnfaHxy6y",
        "outputId": "0833e3fc-d1d6-4e2e-a9d5-a73c2d6c4fc5"
      },
      "execution_count": 64,
      "outputs": [
        {
          "output_type": "execute_result",
          "data": {
            "text/plain": [
              "'r'"
            ],
            "application/vnd.google.colaboratory.intrinsic+json": {
              "type": "string"
            }
          },
          "metadata": {},
          "execution_count": 64
        }
      ]
    },
    {
      "cell_type": "markdown",
      "source": [
        "4.-Ver el contenido del archivo"
      ],
      "metadata": {
        "id": "etZ4ISBCy2H6"
      }
    },
    {
      "cell_type": "code",
      "source": [
        "file1.read()\n"
      ],
      "metadata": {
        "colab": {
          "base_uri": "https://localhost:8080/",
          "height": 35
        },
        "id": "o3Ns12ACy5dZ",
        "outputId": "9f6f0875-adce-4d1e-f32e-da949c3f915e"
      },
      "execution_count": 65,
      "outputs": [
        {
          "output_type": "execute_result",
          "data": {
            "text/plain": [
              "'Esta carta es solo para saludar!!!'"
            ],
            "application/vnd.google.colaboratory.intrinsic+json": {
              "type": "string"
            }
          },
          "metadata": {},
          "execution_count": 65
        }
      ]
    },
    {
      "cell_type": "markdown",
      "source": [
        "5.- El archivo tambie se puede cerrar"
      ],
      "metadata": {
        "id": "RrWyCVHS01Fm"
      }
    },
    {
      "cell_type": "code",
      "source": [
        "file1.close()"
      ],
      "metadata": {
        "id": "A3i9lGxH05H2"
      },
      "execution_count": 66,
      "outputs": []
    },
    {
      "cell_type": "markdown",
      "source": [
        "6.- Otra nanera de poder abrir un archivo"
      ],
      "metadata": {
        "id": "DP0t0Dui1Rlw"
      }
    },
    {
      "cell_type": "code",
      "source": [
        "with open(example1, \"r\") as file1:\n",
        "    FileContent = file1.read()\n",
        "    print(FileContent)"
      ],
      "metadata": {
        "colab": {
          "base_uri": "https://localhost:8080/"
        },
        "id": "46vqtwI11ZRB",
        "outputId": "3c397d33-1605-48f9-9776-e00b35f621a5"
      },
      "execution_count": 67,
      "outputs": [
        {
          "output_type": "stream",
          "name": "stdout",
          "text": [
            "Esta carta es solo para saludar!!!\n"
          ]
        }
      ]
    },
    {
      "cell_type": "markdown",
      "source": [
        "7.-Tambien puedes extraer fracciones del documento"
      ],
      "metadata": {
        "id": "AvU0lieX14Ys"
      }
    },
    {
      "cell_type": "code",
      "source": [
        "with open(example1, \"r\") as file1:\n",
        "    print(file1.read(4))\n",
        "    print(file1.read(4))\n",
        "    print(file1.read(7))\n",
        "    print(file1.read(15))"
      ],
      "metadata": {
        "colab": {
          "base_uri": "https://localhost:8080/"
        },
        "id": "ceZhWMhV2CP2",
        "outputId": "adc97e6e-a78f-46ab-8aaa-a38fc3e126bc"
      },
      "execution_count": 68,
      "outputs": [
        {
          "output_type": "stream",
          "name": "stdout",
          "text": [
            "Esta\n",
            " car\n",
            "ta es s\n",
            "olo para saluda\n"
          ]
        }
      ]
    }
  ]
}