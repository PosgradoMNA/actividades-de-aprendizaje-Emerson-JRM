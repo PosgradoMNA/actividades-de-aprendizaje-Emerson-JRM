{
  "nbformat": 4,
  "nbformat_minor": 0,
  "metadata": {
    "colab": {
      "provenance": [],
      "collapsed_sections": [],
      "include_colab_link": true
    },
    "kernelspec": {
      "name": "python3",
      "display_name": "Python 3"
    },
    "language_info": {
      "name": "python"
    }
  },
  "cells": [
    {
      "cell_type": "markdown",
      "metadata": {
        "id": "view-in-github",
        "colab_type": "text"
      },
      "source": [
        "<a href=\"https://colab.research.google.com/github/PosgradoMNA/actividades-de-aprendizaje-Emerson-JRM/blob/main/Actividad_de_semana_1_2_Python_for_Data_Science_(IBM).ipynb\" target=\"_parent\"><img src=\"https://colab.research.google.com/assets/colab-badge.svg\" alt=\"Open In Colab\"/></a>"
      ]
    },
    {
      "cell_type": "code",
      "execution_count": 9,
      "metadata": {
        "id": "LzUSMM79NR9P",
        "outputId": "a26f2e5c-8e07-45b0-a553-ddfd55175fbe",
        "colab": {
          "base_uri": "https://localhost:8080/"
        }
      },
      "outputs": [
        {
          "output_type": "stream",
          "name": "stdout",
          "text": [
            "Hello\n",
            "World!\n"
          ]
        }
      ],
      "source": [
        "#Your First Program (1:15) - Question 1\n",
        "print(\"Hello\\nWorld!\")"
      ]
    },
    {
      "cell_type": "code",
      "source": [
        "#Your First Program (1:15) - Question 2\n",
        "# print(\"Hello\\nWorld!\")"
      ],
      "metadata": {
        "id": "mxM_WppZPMFx"
      },
      "execution_count": 6,
      "outputs": []
    },
    {
      "cell_type": "code",
      "source": [
        "# Types (2:57)\n",
        "# What is the type of the following: int(1.0)? int - Question 1"
      ],
      "metadata": {
        "id": "gETiG5DvqbM6"
      },
      "execution_count": 4,
      "outputs": []
    },
    {
      "cell_type": "code",
      "source": [
        "# Enter the code to convert the number 1 to a Boolean : bool(1) -  Question 2"
      ],
      "metadata": {
        "id": "AATlK7Ymz3NP"
      },
      "execution_count": 3,
      "outputs": []
    },
    {
      "cell_type": "code",
      "source": [
        "# Lab - Write Your First Python Code!\n",
        "import sys\n",
        "print(sys.version)\n",
        "\n",
        "\n",
        "# Practice on writing comments\n",
        "\n",
        "print('\\nHello, Python!') # This line prints a string\n"
      ],
      "metadata": {
        "id": "rUD6qtGX3gjV",
        "outputId": "4e6d9191-5181-4691-af33-6639ae0fa295",
        "colab": {
          "base_uri": "https://localhost:8080/"
        }
      },
      "execution_count": 14,
      "outputs": [
        {
          "output_type": "stream",
          "name": "stdout",
          "text": [
            "3.7.14 (default, Sep  8 2022, 00:06:44) \n",
            "[GCC 7.5.0]\n",
            "\n",
            "Hello, Python!\n"
          ]
        }
      ]
    },
    {
      "cell_type": "code",
      "source": [],
      "metadata": {
        "id": "U6jTR-mv4yQl"
      },
      "execution_count": null,
      "outputs": []
    }
  ]
}