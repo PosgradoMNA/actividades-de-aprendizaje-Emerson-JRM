{
  "nbformat": 4,
  "nbformat_minor": 0,
  "metadata": {
    "colab": {
      "provenance": [],
      "collapsed_sections": [],
      "include_colab_link": true
    },
    "kernelspec": {
      "name": "python3",
      "display_name": "Python 3"
    },
    "language_info": {
      "name": "python"
    }
  },
  "cells": [
    {
      "cell_type": "markdown",
      "metadata": {
        "id": "view-in-github",
        "colab_type": "text"
      },
      "source": [
        "<a href=\"https://colab.research.google.com/github/PosgradoMNA/actividades-de-aprendizaje-Emerson-JRM/blob/main/Actividad_de_semana_1_2_Python_for_Data_Science_(IBM).ipynb\" target=\"_parent\"><img src=\"https://colab.research.google.com/assets/colab-badge.svg\" alt=\"Open In Colab\"/></a>"
      ]
    },
    {
      "cell_type": "code",
      "execution_count": 9,
      "metadata": {
        "id": "LzUSMM79NR9P",
        "outputId": "a26f2e5c-8e07-45b0-a553-ddfd55175fbe",
        "colab": {
          "base_uri": "https://localhost:8080/"
        }
      },
      "outputs": [
        {
          "output_type": "stream",
          "name": "stdout",
          "text": [
            "Hello\n",
            "World!\n"
          ]
        }
      ],
      "source": [
        "#Your First Program (1:15) - Question 1\n",
        "print(\"Hello\\nWorld!\")"
      ]
    },
    {
      "cell_type": "code",
      "source": [
        "#Your First Program (1:15) - Question 2\n",
        "# print(\"Hello\\nWorld!\")"
      ],
      "metadata": {
        "id": "mxM_WppZPMFx"
      },
      "execution_count": 6,
      "outputs": []
    },
    {
      "cell_type": "code",
      "source": [
        "# Types (2:57)\n",
        "# What is the type of the following: int(1.0)? int - Question 1"
      ],
      "metadata": {
        "id": "gETiG5DvqbM6"
      },
      "execution_count": 4,
      "outputs": []
    },
    {
      "cell_type": "code",
      "source": [
        "# Enter the code to convert the number 1 to a Boolean : bool(1) -  Question 2"
      ],
      "metadata": {
        "id": "AATlK7Ymz3NP"
      },
      "execution_count": 3,
      "outputs": []
    },
    {
      "cell_type": "code",
      "source": [
        "# Lab - Write Your First Python Code!\n",
        "import sys\n",
        "print(sys.version)\n",
        "\n",
        "\n",
        "# Practice on writing comments\n",
        "\n",
        "print('\\nHello, Python!') # This line prints a string\n"
      ],
      "metadata": {
        "colab": {
          "base_uri": "https://localhost:8080/"
        },
        "id": "rUD6qtGX3gjV",
        "outputId": "4e6d9191-5181-4691-af33-6639ae0fa295"
      },
      "execution_count": 14,
      "outputs": [
        {
          "output_type": "stream",
          "name": "stdout",
          "text": [
            "3.7.14 (default, Sep  8 2022, 00:06:44) \n",
            "[GCC 7.5.0]\n",
            "\n",
            "Hello, Python!\n"
          ]
        }
      ]
    },
    {
      "cell_type": "code",
      "source": [
        "# String Operations (3:53) - Question 1\n",
        "# How would you obtain the even elements?\n",
        "Numbers = \"0123456\"\n",
        "Numbers[::2]"
      ],
      "metadata": {
        "colab": {
          "base_uri": "https://localhost:8080/",
          "height": 35
        },
        "id": "U6jTR-mv4yQl",
        "outputId": "184e1252-efa8-4fe6-b0d5-4f2f956372a9"
      },
      "execution_count": 15,
      "outputs": [
        {
          "output_type": "execute_result",
          "data": {
            "text/plain": [
              "'0246'"
            ],
            "application/vnd.google.colaboratory.intrinsic+json": {
              "type": "string"
            }
          },
          "metadata": {},
          "execution_count": 15
        }
      ]
    },
    {
      "cell_type": "code",
      "source": [
        "# String Operations (3:53) - Question 2\n",
        "# What is the result of the following line of code:\n",
        "\"0123456\".find('1')"
      ],
      "metadata": {
        "id": "AEY7svJDBjlv",
        "outputId": "3a522176-fc8b-4265-824b-727365cd7ebe",
        "colab": {
          "base_uri": "https://localhost:8080/"
        }
      },
      "execution_count": 16,
      "outputs": [
        {
          "output_type": "execute_result",
          "data": {
            "text/plain": [
              "1"
            ]
          },
          "metadata": {},
          "execution_count": 16
        }
      ]
    },
    {
      "cell_type": "code",
      "source": [
        "# Review Questions\n",
        "# What is the result of the following operation in Python: Question - 1\n",
        "3 + 2 * 2\n"
      ],
      "metadata": {
        "id": "H5Be1kBmCSvv",
        "outputId": "4b275a8b-d2da-4714-f13c-cd282095ad48",
        "colab": {
          "base_uri": "https://localhost:8080/"
        }
      },
      "execution_count": 17,
      "outputs": [
        {
          "output_type": "execute_result",
          "data": {
            "text/plain": [
              "7"
            ]
          },
          "metadata": {},
          "execution_count": 17
        }
      ]
    },
    {
      "cell_type": "code",
      "source": [
        "# Review Questions\n",
        "# In Python, if you executed name = 'Lizz', what would be the output of print(name[0:2])? Question - 2\n",
        "name = 'Lizz'\n",
        "print(name[0:2])"
      ],
      "metadata": {
        "id": "es8wJev9Ckqz",
        "outputId": "cf910d06-2bba-4fea-a41d-e858b2aa836b",
        "colab": {
          "base_uri": "https://localhost:8080/"
        }
      },
      "execution_count": 18,
      "outputs": [
        {
          "output_type": "stream",
          "name": "stdout",
          "text": [
            "Li\n"
          ]
        }
      ]
    },
    {
      "cell_type": "code",
      "source": [
        "# Review Questions\n",
        "#In Python, if you executed var = '01234567', what would be the result of print(var[::2])? Question - 3\n",
        "var = '01234567'\n",
        "print(var[::2])"
      ],
      "metadata": {
        "id": "tzHXQSIeDneg",
        "outputId": "0da5a09f-f9a5-4b73-b89a-77b31ce33a80",
        "colab": {
          "base_uri": "https://localhost:8080/"
        }
      },
      "execution_count": 20,
      "outputs": [
        {
          "output_type": "stream",
          "name": "stdout",
          "text": [
            "0246\n"
          ]
        }
      ]
    },
    {
      "cell_type": "code",
      "source": [
        "# Review Questions\n",
        "#In Python, what is the result of the following operation '1'+'2'? Question - 4\n",
        "'1'+'2'"
      ],
      "metadata": {
        "id": "CwmThP9bELDV",
        "outputId": "253d75ab-16cf-4911-a86a-6f4b6ea970a5",
        "colab": {
          "base_uri": "https://localhost:8080/",
          "height": 35
        }
      },
      "execution_count": 21,
      "outputs": [
        {
          "output_type": "execute_result",
          "data": {
            "text/plain": [
              "'12'"
            ],
            "application/vnd.google.colaboratory.intrinsic+json": {
              "type": "string"
            }
          },
          "metadata": {},
          "execution_count": 21
        }
      ]
    },
    {
      "cell_type": "code",
      "source": [
        "# Review Questions\n",
        "# Given myvar = 'hello', how would you convert myvar into uppercase? Question - 5\n",
        "myvar = 'hello'\n",
        "print(myvar.upper())"
      ],
      "metadata": {
        "id": "IrphhtnpEaeO",
        "outputId": "5a539471-c432-4373-f4cc-28ac1b5fd76e",
        "colab": {
          "base_uri": "https://localhost:8080/"
        }
      },
      "execution_count": 22,
      "outputs": [
        {
          "output_type": "stream",
          "name": "stdout",
          "text": [
            "HELLO\n"
          ]
        }
      ]
    }
  ]
}