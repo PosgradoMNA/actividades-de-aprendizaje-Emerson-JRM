{
  "nbformat": 4,
  "nbformat_minor": 0,
  "metadata": {
    "colab": {
      "provenance": [],
      "collapsed_sections": [],
      "include_colab_link": true
    },
    "kernelspec": {
      "name": "python3",
      "display_name": "Python 3"
    },
    "language_info": {
      "name": "python"
    }
  },
  "cells": [
    {
      "cell_type": "markdown",
      "metadata": {
        "id": "view-in-github",
        "colab_type": "text"
      },
      "source": [
        "<a href=\"https://colab.research.google.com/github/PosgradoMNA/actividades-de-aprendizaje-Emerson-JRM/blob/main/Actividad_de_semana_1_2_Python_for_Data_Science_(IBM).ipynb\" target=\"_parent\"><img src=\"https://colab.research.google.com/assets/colab-badge.svg\" alt=\"Open In Colab\"/></a>"
      ]
    },
    {
      "cell_type": "code",
      "execution_count": 9,
      "metadata": {
        "id": "LzUSMM79NR9P",
        "outputId": "a26f2e5c-8e07-45b0-a553-ddfd55175fbe",
        "colab": {
          "base_uri": "https://localhost:8080/"
        }
      },
      "outputs": [
        {
          "output_type": "stream",
          "name": "stdout",
          "text": [
            "Hello\n",
            "World!\n"
          ]
        }
      ],
      "source": [
        "#Your First Program (1:15) - Question 1\n",
        "print(\"Hello\\nWorld!\")"
      ]
    },
    {
      "cell_type": "code",
      "source": [
        "#Your First Program (1:15) - Question 2\n",
        "# print(\"Hello\\nWorld!\")"
      ],
      "metadata": {
        "id": "mxM_WppZPMFx"
      },
      "execution_count": 6,
      "outputs": []
    },
    {
      "cell_type": "code",
      "source": [
        "# Types (2:57)\n",
        "# What is the type of the following: int(1.0)? int - Question 1"
      ],
      "metadata": {
        "id": "gETiG5DvqbM6"
      },
      "execution_count": 4,
      "outputs": []
    },
    {
      "cell_type": "code",
      "source": [
        "# Enter the code to convert the number 1 to a Boolean : bool(1) -  Question 2"
      ],
      "metadata": {
        "id": "AATlK7Ymz3NP"
      },
      "execution_count": 3,
      "outputs": []
    },
    {
      "cell_type": "code",
      "source": [
        "# Lab - Write Your First Python Code!\n",
        "import sys\n",
        "print(sys.version)\n",
        "\n",
        "\n",
        "# Practice on writing comments\n",
        "\n",
        "print('\\nHello, Python!') # This line prints a string\n"
      ],
      "metadata": {
        "colab": {
          "base_uri": "https://localhost:8080/"
        },
        "id": "rUD6qtGX3gjV",
        "outputId": "4e6d9191-5181-4691-af33-6639ae0fa295"
      },
      "execution_count": 14,
      "outputs": [
        {
          "output_type": "stream",
          "name": "stdout",
          "text": [
            "3.7.14 (default, Sep  8 2022, 00:06:44) \n",
            "[GCC 7.5.0]\n",
            "\n",
            "Hello, Python!\n"
          ]
        }
      ]
    },
    {
      "cell_type": "code",
      "source": [
        "# String Operations (3:53) - Question 1\n",
        "# How would you obtain the even elements?\n",
        "Numbers = \"0123456\"\n",
        "Numbers[::2]"
      ],
      "metadata": {
        "colab": {
          "base_uri": "https://localhost:8080/",
          "height": 35
        },
        "id": "U6jTR-mv4yQl",
        "outputId": "184e1252-efa8-4fe6-b0d5-4f2f956372a9"
      },
      "execution_count": 15,
      "outputs": [
        {
          "output_type": "execute_result",
          "data": {
            "text/plain": [
              "'0246'"
            ],
            "application/vnd.google.colaboratory.intrinsic+json": {
              "type": "string"
            }
          },
          "metadata": {},
          "execution_count": 15
        }
      ]
    },
    {
      "cell_type": "code",
      "source": [
        "# String Operations (3:53) - Question 2\n",
        "# What is the result of the following line of code:\n",
        "\"0123456\".find('1')"
      ],
      "metadata": {
        "colab": {
          "base_uri": "https://localhost:8080/"
        },
        "id": "AEY7svJDBjlv",
        "outputId": "3a522176-fc8b-4265-824b-727365cd7ebe"
      },
      "execution_count": 16,
      "outputs": [
        {
          "output_type": "execute_result",
          "data": {
            "text/plain": [
              "1"
            ]
          },
          "metadata": {},
          "execution_count": 16
        }
      ]
    },
    {
      "cell_type": "code",
      "source": [
        "# Review Questions\n",
        "# What is the result of the following operation in Python: Question - 1\n",
        "3 + 2 * 2\n"
      ],
      "metadata": {
        "colab": {
          "base_uri": "https://localhost:8080/"
        },
        "id": "H5Be1kBmCSvv",
        "outputId": "4b275a8b-d2da-4714-f13c-cd282095ad48"
      },
      "execution_count": 17,
      "outputs": [
        {
          "output_type": "execute_result",
          "data": {
            "text/plain": [
              "7"
            ]
          },
          "metadata": {},
          "execution_count": 17
        }
      ]
    },
    {
      "cell_type": "code",
      "source": [
        "# Review Questions\n",
        "# In Python, if you executed name = 'Lizz', what would be the output of print(name[0:2])? Question - 2\n",
        "name = 'Lizz'\n",
        "print(name[0:2])"
      ],
      "metadata": {
        "colab": {
          "base_uri": "https://localhost:8080/"
        },
        "id": "es8wJev9Ckqz",
        "outputId": "cf910d06-2bba-4fea-a41d-e858b2aa836b"
      },
      "execution_count": 18,
      "outputs": [
        {
          "output_type": "stream",
          "name": "stdout",
          "text": [
            "Li\n"
          ]
        }
      ]
    },
    {
      "cell_type": "code",
      "source": [
        "# Review Questions\n",
        "#In Python, if you executed var = '01234567', what would be the result of print(var[::2])? Question - 3\n",
        "var = '01234567'\n",
        "print(var[::2])"
      ],
      "metadata": {
        "colab": {
          "base_uri": "https://localhost:8080/"
        },
        "id": "tzHXQSIeDneg",
        "outputId": "0da5a09f-f9a5-4b73-b89a-77b31ce33a80"
      },
      "execution_count": 20,
      "outputs": [
        {
          "output_type": "stream",
          "name": "stdout",
          "text": [
            "0246\n"
          ]
        }
      ]
    },
    {
      "cell_type": "code",
      "source": [
        "# Review Questions\n",
        "#In Python, what is the result of the following operation '1'+'2'? Question - 4\n",
        "'1'+'2'"
      ],
      "metadata": {
        "colab": {
          "base_uri": "https://localhost:8080/",
          "height": 35
        },
        "id": "CwmThP9bELDV",
        "outputId": "253d75ab-16cf-4911-a86a-6f4b6ea970a5"
      },
      "execution_count": 21,
      "outputs": [
        {
          "output_type": "execute_result",
          "data": {
            "text/plain": [
              "'12'"
            ],
            "application/vnd.google.colaboratory.intrinsic+json": {
              "type": "string"
            }
          },
          "metadata": {},
          "execution_count": 21
        }
      ]
    },
    {
      "cell_type": "code",
      "source": [
        "# Review Questions\n",
        "# Given myvar = 'hello', how would you convert myvar into uppercase? Question - 5\n",
        "myvar = 'hello'\n",
        "print(myvar.upper())"
      ],
      "metadata": {
        "colab": {
          "base_uri": "https://localhost:8080/"
        },
        "id": "IrphhtnpEaeO",
        "outputId": "5a539471-c432-4373-f4cc-28ac1b5fd76e"
      },
      "execution_count": 22,
      "outputs": [
        {
          "output_type": "stream",
          "name": "stdout",
          "text": [
            "HELLO\n"
          ]
        }
      ]
    },
    {
      "cell_type": "code",
      "source": [
        "# Lists and Tuples (8:46)\n",
        "# How do you access the last element of the following tuple: A=(0,1,2,3)? Select all possible correct answers.\n",
        "A=(0,1,2,3)\n",
        "A[3]\n",
        "A[-1]\n"
      ],
      "metadata": {
        "colab": {
          "base_uri": "https://localhost:8080/"
        },
        "id": "CNhAH7ICFfTF",
        "outputId": "b0aa733c-a1fe-4ef8-e16f-f71cc27612a6"
      },
      "execution_count": 29,
      "outputs": [
        {
          "output_type": "execute_result",
          "data": {
            "text/plain": [
              "3"
            ]
          },
          "metadata": {},
          "execution_count": 29
        }
      ]
    },
    {
      "cell_type": "code",
      "source": [
        "# Lists and Tuples (8:46)\n",
        "# Consider the list: B=[\"a\",\"b\",\"c\"]\n",
        "B=[\"a\",\"b\",\"c\"]\n",
        "B[1:]"
      ],
      "metadata": {
        "colab": {
          "base_uri": "https://localhost:8080/"
        },
        "id": "cLENhyCiHcfc",
        "outputId": "fbfd300a-0e32-4ceb-99ad-1b2bfa314c36"
      },
      "execution_count": 31,
      "outputs": [
        {
          "output_type": "execute_result",
          "data": {
            "text/plain": [
              "['b', 'c']"
            ]
          },
          "metadata": {},
          "execution_count": 31
        }
      ]
    },
    {
      "cell_type": "code",
      "source": [
        "#Sets (External resource)\n",
        "#What is the result of the following lines of code:\n",
        "S={'A','B','C'}\n",
        "\n",
        "U={'A','Z','C'}\n",
        "\n",
        "U.union(S)"
      ],
      "metadata": {
        "colab": {
          "base_uri": "https://localhost:8080/"
        },
        "id": "aYA18gquJc2e",
        "outputId": "d132e687-f7d6-4fb0-b9b9-80c89037b19a"
      },
      "execution_count": 32,
      "outputs": [
        {
          "output_type": "execute_result",
          "data": {
            "text/plain": [
              "{'A', 'B', 'C', 'Z'}"
            ]
          },
          "metadata": {},
          "execution_count": 32
        }
      ]
    },
    {
      "cell_type": "code",
      "source": [
        "#Sets (External resource)\n",
        "#What is the intersection of set S and U?\n",
        "\n",
        "S={'A','B','C'}\n",
        "\n",
        "U={'A','Z','C'}\n",
        "S&U\n"
      ],
      "metadata": {
        "colab": {
          "base_uri": "https://localhost:8080/"
        },
        "id": "26S4kklTJgzd",
        "outputId": "44162302-4846-4d97-c2e2-f889d55f9d61"
      },
      "execution_count": 34,
      "outputs": [
        {
          "output_type": "execute_result",
          "data": {
            "text/plain": [
              "{'A', 'C'}"
            ]
          },
          "metadata": {},
          "execution_count": 34
        }
      ]
    },
    {
      "cell_type": "code",
      "source": [
        "# Dictionaries (External resource)\n",
        "# Consider the following dictionary: - Question 1\n",
        "\n",
        "D = {'a':0,'b':1,'c':2}\n",
        "\n",
        "#What is the result of the following: D.values()?\n",
        "D.values()\n"
      ],
      "metadata": {
        "colab": {
          "base_uri": "https://localhost:8080/"
        },
        "id": "gcCFl_blpYjh",
        "outputId": "f482867c-554f-4155-c419-c8dbf888ea04"
      },
      "execution_count": 35,
      "outputs": [
        {
          "output_type": "execute_result",
          "data": {
            "text/plain": [
              "dict_values([0, 1, 2])"
            ]
          },
          "metadata": {},
          "execution_count": 35
        }
      ]
    },
    {
      "cell_type": "code",
      "source": [
        "# Dictionaries (External resource)\n",
        "# Consider the following dictionary: - Question 2\n",
        "D = {'a':0,'b':1,'c':2}\n",
        "#What is the output of the following D['b']?\n",
        "D['b']\n"
      ],
      "metadata": {
        "colab": {
          "base_uri": "https://localhost:8080/"
        },
        "id": "ISr89U85pu-x",
        "outputId": "847bd1ae-b8a0-4b97-e071-c5db7ef16e68"
      },
      "execution_count": 36,
      "outputs": [
        {
          "output_type": "execute_result",
          "data": {
            "text/plain": [
              "1"
            ]
          },
          "metadata": {},
          "execution_count": 36
        }
      ]
    },
    {
      "cell_type": "code",
      "source": [
        "# Review Questions\n",
        "#What is the syntax used to obtain the first element of the tuple: - Question 1\n",
        "\n",
        "A = ('a','b','c')\n",
        "A[0]\n"
      ],
      "metadata": {
        "colab": {
          "base_uri": "https://localhost:8080/",
          "height": 35
        },
        "id": "YNiMZzNKqfC_",
        "outputId": "8dc9f6a4-f8dc-45ff-b27a-8f4a943ddef2"
      },
      "execution_count": 38,
      "outputs": [
        {
          "output_type": "execute_result",
          "data": {
            "text/plain": [
              "'a'"
            ],
            "application/vnd.google.colaboratory.intrinsic+json": {
              "type": "string"
            }
          },
          "metadata": {},
          "execution_count": 38
        }
      ]
    },
    {
      "cell_type": "code",
      "source": [
        "# Review Questions\n",
        "# After applying the following method, L.append(['a','b']), the following list will only be one element longer: - Question 2\n",
        "\n",
        "L.append(['a','b'])\n",
        "\n"
      ],
      "metadata": {
        "id": "gcalg8WJq9Vx"
      },
      "execution_count": 52,
      "outputs": []
    },
    {
      "cell_type": "code",
      "source": [
        "# Review Questions\n",
        "# Consider the following Python dictionary:- Question 4\n",
        "\n",
        "Dict={\"A\":1,\"B\":\"2\",\"C\":[3,3,3],\"D\":(4,4,4),'E':5,'F':6}\n",
        "\n",
        "# What is the result of the following operation: Dict[\"D\"]? \n",
        "Dict[\"D\"]\n"
      ],
      "metadata": {
        "colab": {
          "base_uri": "https://localhost:8080/"
        },
        "id": "MI5uLNgardl-",
        "outputId": "af755c5a-2336-45df-f1a7-30b030821d80"
      },
      "execution_count": 53,
      "outputs": [
        {
          "output_type": "execute_result",
          "data": {
            "text/plain": [
              "(4, 4, 4)"
            ]
          },
          "metadata": {},
          "execution_count": 53
        }
      ]
    },
    {
      "cell_type": "code",
      "source": [
        "# Conditions and Branching (External resource)\n",
        "# Select the values of i that produces a True for the following: Question 1\n",
        "i=100000000\n",
        "i!=0\n"
      ],
      "metadata": {
        "colab": {
          "base_uri": "https://localhost:8080/"
        },
        "id": "AUSdhW9ctEuB",
        "outputId": "0414a3f3-6dc0-4479-a241-792ae4da96f2"
      },
      "execution_count": 58,
      "outputs": [
        {
          "output_type": "execute_result",
          "data": {
            "text/plain": [
              "True"
            ]
          },
          "metadata": {},
          "execution_count": 58
        }
      ]
    },
    {
      "cell_type": "code",
      "source": [
        "# Conditions and Branching (External resource)\n",
        "# What is the output of the following: Question 2\n",
        "\n",
        "x='a'\n",
        "\n",
        "if(x!='a'):print(\"This is not a.\")\n",
        "\n",
        "else: print(\"This is a.\")"
      ],
      "metadata": {
        "colab": {
          "base_uri": "https://localhost:8080/"
        },
        "id": "WEO1CzdnxNuU",
        "outputId": "7c44903f-9065-46d7-93f4-27f3c8e56d0c"
      },
      "execution_count": 61,
      "outputs": [
        {
          "output_type": "stream",
          "name": "stdout",
          "text": [
            "This is a.\n"
          ]
        }
      ]
    },
    {
      "cell_type": "code",
      "source": [
        "# Loops (External resource)\n",
        "# What is the output of the following lines of code: - Question 1\n",
        "A=[3,4,5]\n",
        "\n",
        "for a in A: print(a)"
      ],
      "metadata": {
        "colab": {
          "base_uri": "https://localhost:8080/"
        },
        "id": "GfPUg7-Ex6VD",
        "outputId": "816deb87-9e46-4c4e-d91a-540579af0515"
      },
      "execution_count": 65,
      "outputs": [
        {
          "output_type": "stream",
          "name": "stdout",
          "text": [
            "3\n",
            "4\n",
            "5\n"
          ]
        }
      ]
    },
    {
      "cell_type": "code",
      "source": [
        "# Loops (External resource)\n",
        "# What is the output of the following lines of code: - Question 2\n",
        "x=3\n",
        "\n",
        "y=1\n",
        "\n",
        "while(y!=x): y=y+1 , print(y)\n"
      ],
      "metadata": {
        "id": "Lfdx5cF_z_4d"
      },
      "execution_count": null,
      "outputs": []
    },
    {
      "cell_type": "code",
      "source": [
        "# Functions (External resource)\n",
        "# What is the value of c after the following block of code is run ?\n",
        "a=1\n",
        "\n",
        "def add(b): return a+b\n",
        "\n",
        "c=add(10)\n",
        "print(c)"
      ],
      "metadata": {
        "colab": {
          "base_uri": "https://localhost:8080/"
        },
        "id": "v-YJLGlf0RYk",
        "outputId": "0d6f2dd0-a8e7-4684-8dae-58814787048c"
      },
      "execution_count": 79,
      "outputs": [
        {
          "output_type": "stream",
          "name": "stdout",
          "text": [
            "11\n"
          ]
        }
      ]
    },
    {
      "cell_type": "code",
      "source": [
        "# Functions (External resource)\n",
        "# What is the value of c after the following block of code is run with proper numerical input?\n",
        "x=(1,2,3)\n",
        "def f(*x): return sum(x)\n",
        "Print(c)\n",
        "\n",
        "\n",
        "\n"
      ],
      "metadata": {
        "id": "ddWDeBXZ6Yur"
      },
      "execution_count": null,
      "outputs": []
    },
    {
      "cell_type": "code",
      "source": [
        "# Object and Classes (External resource)\n",
        "#Using the Class Car in the lab, create a Car object with the following attributes:\n",
        "\n",
        "make=\"Honda\"\n",
        "\n",
        "model=\"Accord\"\n",
        "\n",
        "color=\"blue\""
      ],
      "metadata": {
        "id": "nSEogJ2K9Vym"
      },
      "execution_count": 92,
      "outputs": []
    },
    {
      "cell_type": "code",
      "source": [
        "# Review Questions\n",
        "#What is the output of the following lines of code:\n",
        "x=1\n",
        "\n",
        "if(x!=1): print('Hello')\n",
        "\n",
        "else: print('Hi')\n",
        "\n",
        "print('Mike')\n"
      ],
      "metadata": {
        "colab": {
          "base_uri": "https://localhost:8080/"
        },
        "id": "NoyY6vWVEL4h",
        "outputId": "9a6bfcf1-4d6d-4417-c5b2-d73a1bc45989"
      },
      "execution_count": 94,
      "outputs": [
        {
          "output_type": "stream",
          "name": "stdout",
          "text": [
            "Hi\n",
            "Mike\n"
          ]
        }
      ]
    },
    {
      "cell_type": "code",
      "source": [
        "#What is the output of the following few lines of code?\n",
        "\n",
        "A = ['1','2','3']\n",
        "\n",
        "for a in A: print(2*a)"
      ],
      "metadata": {
        "colab": {
          "base_uri": "https://localhost:8080/"
        },
        "id": "E_vssR9UEhM3",
        "outputId": "3fc67003-d05d-48ef-b559-176cf3b8c23e"
      },
      "execution_count": 96,
      "outputs": [
        {
          "output_type": "stream",
          "name": "stdout",
          "text": [
            "11\n",
            "22\n",
            "33\n"
          ]
        }
      ]
    },
    {
      "cell_type": "code",
      "source": [
        "# Consider the function Delta, when will the function return a value of 1\n",
        "\n",
        "def Delta(x): \n",
        "  if x==0: y=1;\n",
        "\n",
        "else: y=0;\n",
        "\n",
        "return(y)"
      ],
      "metadata": {
        "id": "a_yjtOXSEp08"
      },
      "execution_count": null,
      "outputs": []
    },
    {
      "cell_type": "code",
      "source": [],
      "metadata": {
        "id": "WM5MyTK4E0R3"
      },
      "execution_count": null,
      "outputs": []
    }
  ]
}