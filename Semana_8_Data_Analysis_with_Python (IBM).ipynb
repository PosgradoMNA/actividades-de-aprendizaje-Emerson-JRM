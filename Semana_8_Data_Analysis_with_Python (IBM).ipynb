{
  "nbformat": 4,
  "nbformat_minor": 0,
  "metadata": {
    "colab": {
      "provenance": [],
      "include_colab_link": true
    },
    "kernelspec": {
      "name": "python3",
      "display_name": "Python 3"
    },
    "language_info": {
      "name": "python"
    }
  },
  "cells": [
    {
      "cell_type": "markdown",
      "metadata": {
        "id": "view-in-github",
        "colab_type": "text"
      },
      "source": [
        "<a href=\"https://colab.research.google.com/github/PosgradoMNA/actividades-de-aprendizaje-Emerson-JRM/blob/main/Semana%208%3A%20Data%20Analysis%20with%20Python%20(IBM).ipynb\" target=\"_parent\"><img src=\"https://colab.research.google.com/assets/colab-badge.svg\" alt=\"Open In Colab\"/></a>"
      ]
    },
    {
      "cell_type": "markdown",
      "source": [
        "![image.png](data:image/png;base64,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)"
      ],
      "metadata": {
        "id": "uG4n4eWqJtEv"
      }
    },
    {
      "cell_type": "markdown",
      "source": [
        "# **Ciencia y analítica de datos (Gpo 10)**\n",
        "\n",
        "\n",
        "#            **01/Nov/2022 **"
      ],
      "metadata": {
        "id": "8eoPGqWwF1K4"
      }
    },
    {
      "cell_type": "markdown",
      "source": [
        "\n",
        "\n",
        "```\n",
        "\n",
        "```\n",
        "\n",
        "# Semana 8_Data Analysis with Python (IBM)\n",
        "\n"
      ],
      "metadata": {
        "id": "JBtOZc2yFiN_"
      }
    },
    {
      "cell_type": "markdown",
      "source": [
        "# **Emerson Jonathan Rincón Morales**     # **A01793814**"
      ],
      "metadata": {
        "id": "54UObroiFC3N"
      }
    },
    {
      "cell_type": "markdown",
      "source": [
        "link to giHub:    https://github.com/PosgradoMNA/actividades-de-aprendizaje-Emerson-JRM/blob/main/Semana_7_Data_Analysis_with_Python_(IBM).ipynb\n",
        "\n"
      ],
      "metadata": {
        "id": "w0WUCWdeJPVW"
      }
    },
    {
      "cell_type": "code",
      "execution_count": null,
      "metadata": {
        "id": "QkTIW1Qa_KoS"
      },
      "outputs": [],
      "source": [
        "import pandas as pd\n",
        "import numpy as np\n",
        "import matplotlib.pyplot as plt\n"
      ]
    },
    {
      "cell_type": "markdown",
      "source": [
        "Leemos el dataset del link que se nos proporciona:"
      ],
      "metadata": {
        "id": "rrgiP_iHbXy4"
      }
    },
    {
      "cell_type": "code",
      "source": [
        "path = 'https://cf-courses-data.s3.us.cloud-object-storage.appdomain.cloud/IBMDeveloperSkillsNetwork-DA0101EN-SkillsNetwork/labs/Data%20files/automobileEDA.csv'\n",
        "df = pd.read_csv(path)\n",
        "df.head()"
      ],
      "metadata": {
        "colab": {
          "base_uri": "https://localhost:8080/",
          "height": 235
        },
        "id": "4gCeT3fmbbup",
        "outputId": "d82d0f15-63d3-4521-c740-4c361f7aaef7"
      },
      "execution_count": null,
      "outputs": [
        {
          "output_type": "execute_result",
          "data": {
            "text/plain": [
              "   symboling  normalized-losses         make aspiration num-of-doors  \\\n",
              "0          3                122  alfa-romero        std          two   \n",
              "1          3                122  alfa-romero        std          two   \n",
              "2          1                122  alfa-romero        std          two   \n",
              "3          2                164         audi        std         four   \n",
              "4          2                164         audi        std         four   \n",
              "\n",
              "    body-style drive-wheels engine-location  wheel-base    length  ...  \\\n",
              "0  convertible          rwd           front        88.6  0.811148  ...   \n",
              "1  convertible          rwd           front        88.6  0.811148  ...   \n",
              "2    hatchback          rwd           front        94.5  0.822681  ...   \n",
              "3        sedan          fwd           front        99.8  0.848630  ...   \n",
              "4        sedan          4wd           front        99.4  0.848630  ...   \n",
              "\n",
              "   compression-ratio  horsepower  peak-rpm city-mpg highway-mpg    price  \\\n",
              "0                9.0       111.0    5000.0       21          27  13495.0   \n",
              "1                9.0       111.0    5000.0       21          27  16500.0   \n",
              "2                9.0       154.0    5000.0       19          26  16500.0   \n",
              "3               10.0       102.0    5500.0       24          30  13950.0   \n",
              "4                8.0       115.0    5500.0       18          22  17450.0   \n",
              "\n",
              "  city-L/100km  horsepower-binned  diesel  gas  \n",
              "0    11.190476             Medium       0    1  \n",
              "1    11.190476             Medium       0    1  \n",
              "2    12.368421             Medium       0    1  \n",
              "3     9.791667             Medium       0    1  \n",
              "4    13.055556             Medium       0    1  \n",
              "\n",
              "[5 rows x 29 columns]"
            ],
            "text/html": [
              "\n",
              "  <div id=\"df-378d6483-cd20-46c6-8edc-6a533e7c9be6\">\n",
              "    <div class=\"colab-df-container\">\n",
              "      <div>\n",
              "<style scoped>\n",
              "    .dataframe tbody tr th:only-of-type {\n",
              "        vertical-align: middle;\n",
              "    }\n",
              "\n",
              "    .dataframe tbody tr th {\n",
              "        vertical-align: top;\n",
              "    }\n",
              "\n",
              "    .dataframe thead th {\n",
              "        text-align: right;\n",
              "    }\n",
              "</style>\n",
              "<table border=\"1\" class=\"dataframe\">\n",
              "  <thead>\n",
              "    <tr style=\"text-align: right;\">\n",
              "      <th></th>\n",
              "      <th>symboling</th>\n",
              "      <th>normalized-losses</th>\n",
              "      <th>make</th>\n",
              "      <th>aspiration</th>\n",
              "      <th>num-of-doors</th>\n",
              "      <th>body-style</th>\n",
              "      <th>drive-wheels</th>\n",
              "      <th>engine-location</th>\n",
              "      <th>wheel-base</th>\n",
              "      <th>length</th>\n",
              "      <th>...</th>\n",
              "      <th>compression-ratio</th>\n",
              "      <th>horsepower</th>\n",
              "      <th>peak-rpm</th>\n",
              "      <th>city-mpg</th>\n",
              "      <th>highway-mpg</th>\n",
              "      <th>price</th>\n",
              "      <th>city-L/100km</th>\n",
              "      <th>horsepower-binned</th>\n",
              "      <th>diesel</th>\n",
              "      <th>gas</th>\n",
              "    </tr>\n",
              "  </thead>\n",
              "  <tbody>\n",
              "    <tr>\n",
              "      <th>0</th>\n",
              "      <td>3</td>\n",
              "      <td>122</td>\n",
              "      <td>alfa-romero</td>\n",
              "      <td>std</td>\n",
              "      <td>two</td>\n",
              "      <td>convertible</td>\n",
              "      <td>rwd</td>\n",
              "      <td>front</td>\n",
              "      <td>88.6</td>\n",
              "      <td>0.811148</td>\n",
              "      <td>...</td>\n",
              "      <td>9.0</td>\n",
              "      <td>111.0</td>\n",
              "      <td>5000.0</td>\n",
              "      <td>21</td>\n",
              "      <td>27</td>\n",
              "      <td>13495.0</td>\n",
              "      <td>11.190476</td>\n",
              "      <td>Medium</td>\n",
              "      <td>0</td>\n",
              "      <td>1</td>\n",
              "    </tr>\n",
              "    <tr>\n",
              "      <th>1</th>\n",
              "      <td>3</td>\n",
              "      <td>122</td>\n",
              "      <td>alfa-romero</td>\n",
              "      <td>std</td>\n",
              "      <td>two</td>\n",
              "      <td>convertible</td>\n",
              "      <td>rwd</td>\n",
              "      <td>front</td>\n",
              "      <td>88.6</td>\n",
              "      <td>0.811148</td>\n",
              "      <td>...</td>\n",
              "      <td>9.0</td>\n",
              "      <td>111.0</td>\n",
              "      <td>5000.0</td>\n",
              "      <td>21</td>\n",
              "      <td>27</td>\n",
              "      <td>16500.0</td>\n",
              "      <td>11.190476</td>\n",
              "      <td>Medium</td>\n",
              "      <td>0</td>\n",
              "      <td>1</td>\n",
              "    </tr>\n",
              "    <tr>\n",
              "      <th>2</th>\n",
              "      <td>1</td>\n",
              "      <td>122</td>\n",
              "      <td>alfa-romero</td>\n",
              "      <td>std</td>\n",
              "      <td>two</td>\n",
              "      <td>hatchback</td>\n",
              "      <td>rwd</td>\n",
              "      <td>front</td>\n",
              "      <td>94.5</td>\n",
              "      <td>0.822681</td>\n",
              "      <td>...</td>\n",
              "      <td>9.0</td>\n",
              "      <td>154.0</td>\n",
              "      <td>5000.0</td>\n",
              "      <td>19</td>\n",
              "      <td>26</td>\n",
              "      <td>16500.0</td>\n",
              "      <td>12.368421</td>\n",
              "      <td>Medium</td>\n",
              "      <td>0</td>\n",
              "      <td>1</td>\n",
              "    </tr>\n",
              "    <tr>\n",
              "      <th>3</th>\n",
              "      <td>2</td>\n",
              "      <td>164</td>\n",
              "      <td>audi</td>\n",
              "      <td>std</td>\n",
              "      <td>four</td>\n",
              "      <td>sedan</td>\n",
              "      <td>fwd</td>\n",
              "      <td>front</td>\n",
              "      <td>99.8</td>\n",
              "      <td>0.848630</td>\n",
              "      <td>...</td>\n",
              "      <td>10.0</td>\n",
              "      <td>102.0</td>\n",
              "      <td>5500.0</td>\n",
              "      <td>24</td>\n",
              "      <td>30</td>\n",
              "      <td>13950.0</td>\n",
              "      <td>9.791667</td>\n",
              "      <td>Medium</td>\n",
              "      <td>0</td>\n",
              "      <td>1</td>\n",
              "    </tr>\n",
              "    <tr>\n",
              "      <th>4</th>\n",
              "      <td>2</td>\n",
              "      <td>164</td>\n",
              "      <td>audi</td>\n",
              "      <td>std</td>\n",
              "      <td>four</td>\n",
              "      <td>sedan</td>\n",
              "      <td>4wd</td>\n",
              "      <td>front</td>\n",
              "      <td>99.4</td>\n",
              "      <td>0.848630</td>\n",
              "      <td>...</td>\n",
              "      <td>8.0</td>\n",
              "      <td>115.0</td>\n",
              "      <td>5500.0</td>\n",
              "      <td>18</td>\n",
              "      <td>22</td>\n",
              "      <td>17450.0</td>\n",
              "      <td>13.055556</td>\n",
              "      <td>Medium</td>\n",
              "      <td>0</td>\n",
              "      <td>1</td>\n",
              "    </tr>\n",
              "  </tbody>\n",
              "</table>\n",
              "<p>5 rows × 29 columns</p>\n",
              "</div>\n",
              "      <button class=\"colab-df-convert\" onclick=\"convertToInteractive('df-378d6483-cd20-46c6-8edc-6a533e7c9be6')\"\n",
              "              title=\"Convert this dataframe to an interactive table.\"\n",
              "              style=\"display:none;\">\n",
              "        \n",
              "  <svg xmlns=\"http://www.w3.org/2000/svg\" height=\"24px\"viewBox=\"0 0 24 24\"\n",
              "       width=\"24px\">\n",
              "    <path d=\"M0 0h24v24H0V0z\" fill=\"none\"/>\n",
              "    <path d=\"M18.56 5.44l.94 2.06.94-2.06 2.06-.94-2.06-.94-.94-2.06-.94 2.06-2.06.94zm-11 1L8.5 8.5l.94-2.06 2.06-.94-2.06-.94L8.5 2.5l-.94 2.06-2.06.94zm10 10l.94 2.06.94-2.06 2.06-.94-2.06-.94-.94-2.06-.94 2.06-2.06.94z\"/><path d=\"M17.41 7.96l-1.37-1.37c-.4-.4-.92-.59-1.43-.59-.52 0-1.04.2-1.43.59L10.3 9.45l-7.72 7.72c-.78.78-.78 2.05 0 2.83L4 21.41c.39.39.9.59 1.41.59.51 0 1.02-.2 1.41-.59l7.78-7.78 2.81-2.81c.8-.78.8-2.07 0-2.86zM5.41 20L4 18.59l7.72-7.72 1.47 1.35L5.41 20z\"/>\n",
              "  </svg>\n",
              "      </button>\n",
              "      \n",
              "  <style>\n",
              "    .colab-df-container {\n",
              "      display:flex;\n",
              "      flex-wrap:wrap;\n",
              "      gap: 12px;\n",
              "    }\n",
              "\n",
              "    .colab-df-convert {\n",
              "      background-color: #E8F0FE;\n",
              "      border: none;\n",
              "      border-radius: 50%;\n",
              "      cursor: pointer;\n",
              "      display: none;\n",
              "      fill: #1967D2;\n",
              "      height: 32px;\n",
              "      padding: 0 0 0 0;\n",
              "      width: 32px;\n",
              "    }\n",
              "\n",
              "    .colab-df-convert:hover {\n",
              "      background-color: #E2EBFA;\n",
              "      box-shadow: 0px 1px 2px rgba(60, 64, 67, 0.3), 0px 1px 3px 1px rgba(60, 64, 67, 0.15);\n",
              "      fill: #174EA6;\n",
              "    }\n",
              "\n",
              "    [theme=dark] .colab-df-convert {\n",
              "      background-color: #3B4455;\n",
              "      fill: #D2E3FC;\n",
              "    }\n",
              "\n",
              "    [theme=dark] .colab-df-convert:hover {\n",
              "      background-color: #434B5C;\n",
              "      box-shadow: 0px 1px 3px 1px rgba(0, 0, 0, 0.15);\n",
              "      filter: drop-shadow(0px 1px 2px rgba(0, 0, 0, 0.3));\n",
              "      fill: #FFFFFF;\n",
              "    }\n",
              "  </style>\n",
              "\n",
              "      <script>\n",
              "        const buttonEl =\n",
              "          document.querySelector('#df-378d6483-cd20-46c6-8edc-6a533e7c9be6 button.colab-df-convert');\n",
              "        buttonEl.style.display =\n",
              "          google.colab.kernel.accessAllowed ? 'block' : 'none';\n",
              "\n",
              "        async function convertToInteractive(key) {\n",
              "          const element = document.querySelector('#df-378d6483-cd20-46c6-8edc-6a533e7c9be6');\n",
              "          const dataTable =\n",
              "            await google.colab.kernel.invokeFunction('convertToInteractive',\n",
              "                                                     [key], {});\n",
              "          if (!dataTable) return;\n",
              "\n",
              "          const docLinkHtml = 'Like what you see? Visit the ' +\n",
              "            '<a target=\"_blank\" href=https://colab.research.google.com/notebooks/data_table.ipynb>data table notebook</a>'\n",
              "            + ' to learn more about interactive tables.';\n",
              "          element.innerHTML = '';\n",
              "          dataTable['output_type'] = 'display_data';\n",
              "          await google.colab.output.renderOutput(dataTable, element);\n",
              "          const docLink = document.createElement('div');\n",
              "          docLink.innerHTML = docLinkHtml;\n",
              "          element.appendChild(docLink);\n",
              "        }\n",
              "      </script>\n",
              "    </div>\n",
              "  </div>\n",
              "  "
            ]
          },
          "metadata": {},
          "execution_count": 18
        }
      ]
    },
    {
      "cell_type": "markdown",
      "source": [
        "# **1. Linear Regression and Multiple Linear Regression**"
      ],
      "metadata": {
        "id": "iJK7tMOBbjWu"
      }
    },
    {
      "cell_type": "markdown",
      "source": [
        "Este metodo nos funciona para entender mejor la correlacion que existe entre la variable dependiente (Y) y la variables independientes (x) \n",
        "\n",
        "El resultado de la regresión lineal es una función lineal que predice la variable de respuesta (dependiente) en función de la variable predictora (independiente).\n",
        "\n",
        "Y = a + bX"
      ],
      "metadata": {
        "id": "Qv5ZzIRebp3e"
      }
    },
    {
      "cell_type": "code",
      "source": [
        "from sklearn.linear_model import LinearRegression # se cargan los modulos para la regresion lineal"
      ],
      "metadata": {
        "id": "ua6OFF7NcOUj"
      },
      "execution_count": null,
      "outputs": []
    },
    {
      "cell_type": "code",
      "source": [
        "lm = LinearRegression() #Generamos una objeto para poder trabajar con la regresion lineal\n",
        "lm"
      ],
      "metadata": {
        "colab": {
          "base_uri": "https://localhost:8080/"
        },
        "id": "T-94fyxycxTF",
        "outputId": "1eff2723-1fb7-4604-b3c9-d3f5adbdb62c"
      },
      "execution_count": null,
      "outputs": [
        {
          "output_type": "execute_result",
          "data": {
            "text/plain": [
              "LinearRegression()"
            ]
          },
          "metadata": {},
          "execution_count": 20
        }
      ]
    },
    {
      "cell_type": "markdown",
      "source": [
        "Para este ejemplo, queremos ver cómo Highway-mpg puede ayudarnos a predecir el precio del automóvil. Usando una regresión lineal simple, crearemos una función lineal con \"mpg en carretera\" como la variable predictora y el \"precio\" como la variable de respuesta."
      ],
      "metadata": {
        "id": "09zOPv2WdNok"
      }
    },
    {
      "cell_type": "code",
      "source": [
        "X = df[['highway-mpg']]\n",
        "Y = df['price']"
      ],
      "metadata": {
        "id": "AnsULnp9dOku"
      },
      "execution_count": null,
      "outputs": []
    },
    {
      "cell_type": "markdown",
      "source": [
        "Ahora nos toca entrenar el modelo..."
      ],
      "metadata": {
        "id": "_MEaR8ppdY5K"
      }
    },
    {
      "cell_type": "code",
      "source": [
        "lm.fit(X,Y)"
      ],
      "metadata": {
        "colab": {
          "base_uri": "https://localhost:8080/"
        },
        "id": "30XVLMeYdbvN",
        "outputId": "9db018b4-aac9-47a9-bb5d-5426a34b58d0"
      },
      "execution_count": null,
      "outputs": [
        {
          "output_type": "execute_result",
          "data": {
            "text/plain": [
              "LinearRegression()"
            ]
          },
          "metadata": {},
          "execution_count": 22
        }
      ]
    },
    {
      "cell_type": "markdown",
      "source": [
        "Podemos conlcuir con la prediccion..."
      ],
      "metadata": {
        "id": "60TY6ixHdiz3"
      }
    },
    {
      "cell_type": "code",
      "source": [
        "Yhat=lm.predict(X)\n",
        "Yhat[0:5] "
      ],
      "metadata": {
        "colab": {
          "base_uri": "https://localhost:8080/"
        },
        "id": "1lgSGyMrdk1X",
        "outputId": "4bb24b2b-b262-4b3f-96a0-0dad22564f93"
      },
      "execution_count": null,
      "outputs": [
        {
          "output_type": "execute_result",
          "data": {
            "text/plain": [
              "array([16236.50464347, 16236.50464347, 17058.23802179, 13771.3045085 ,\n",
              "       20345.17153508])"
            ]
          },
          "metadata": {},
          "execution_count": 23
        }
      ]
    },
    {
      "cell_type": "markdown",
      "source": [
        " **What is the value of the intercept (a)?**"
      ],
      "metadata": {
        "id": "mEpN5T8tdpXK"
      }
    },
    {
      "cell_type": "markdown",
      "source": [
        "El valor de \"intercept\" es el valor donde la grafica lineal cruza al eje de la Y, y se calcula con el siguiente codigo:"
      ],
      "metadata": {
        "id": "0_efBuaLds47"
      }
    },
    {
      "cell_type": "code",
      "source": [
        "lm.intercept_"
      ],
      "metadata": {
        "colab": {
          "base_uri": "https://localhost:8080/"
        },
        "id": "9A7OQMAJd7P9",
        "outputId": "0a580973-d2bf-428a-e14e-1ff3885d27c5"
      },
      "execution_count": null,
      "outputs": [
        {
          "output_type": "execute_result",
          "data": {
            "text/plain": [
              "38423.3058581574"
            ]
          },
          "metadata": {},
          "execution_count": 25
        }
      ]
    },
    {
      "cell_type": "markdown",
      "source": [
        " **What is the value of the slope (b)?¶**"
      ],
      "metadata": {
        "id": "xLpkK13AeHPG"
      }
    },
    {
      "cell_type": "markdown",
      "source": [
        "El \"slope\" es el valor del coeficiente, y se representa de manera grafica como la pendiente de la grafica lineal"
      ],
      "metadata": {
        "id": "lWsSC06CeKeU"
      }
    },
    {
      "cell_type": "code",
      "source": [
        "lm.coef_"
      ],
      "metadata": {
        "colab": {
          "base_uri": "https://localhost:8080/"
        },
        "id": "u7TgvvC4eJwD",
        "outputId": "994bc6b1-6580-4830-ee96-c96268429d1e"
      },
      "execution_count": null,
      "outputs": [
        {
          "output_type": "execute_result",
          "data": {
            "text/plain": [
              "array([-821.73337832])"
            ]
          },
          "metadata": {},
          "execution_count": 26
        }
      ]
    },
    {
      "cell_type": "markdown",
      "source": [
        "Esta es nuestra ecuacion de lineal, y queda representada de la siguiente manera:\n",
        "\n",
        " **Price = 38423.31 - 821.73 x highway-mpg**"
      ],
      "metadata": {
        "id": "rDum1LbtedEv"
      }
    },
    {
      "cell_type": "markdown",
      "source": [
        "# Question #1 a): \n",
        "**Create a linear regression object called \"lm1\"**"
      ],
      "metadata": {
        "id": "sY6moAghe2NG"
      }
    },
    {
      "cell_type": "code",
      "source": [
        "lm1 = LinearRegression()\n",
        "lm1"
      ],
      "metadata": {
        "colab": {
          "base_uri": "https://localhost:8080/"
        },
        "id": "hjBeT-qSfauG",
        "outputId": "221d071e-b7db-46f3-94ea-304538b2c689"
      },
      "execution_count": null,
      "outputs": [
        {
          "output_type": "execute_result",
          "data": {
            "text/plain": [
              "LinearRegression()"
            ]
          },
          "metadata": {},
          "execution_count": 28
        }
      ]
    },
    {
      "cell_type": "markdown",
      "source": [
        "# **Question #1 b):**\n",
        "**Train the model using \"engine-size\" as the independent variable and \"price\" as the dependent variable?**"
      ],
      "metadata": {
        "id": "NtcMzEEqe9xt"
      }
    },
    {
      "cell_type": "code",
      "source": [
        "lm1.fit(df[['engine-size']], df[['price']])\n",
        "lm1"
      ],
      "metadata": {
        "colab": {
          "base_uri": "https://localhost:8080/"
        },
        "id": "vvO06QMZfiUN",
        "outputId": "f095bcf0-c8c7-493e-eca2-f3f432d767e3"
      },
      "execution_count": null,
      "outputs": [
        {
          "output_type": "execute_result",
          "data": {
            "text/plain": [
              "LinearRegression()"
            ]
          },
          "metadata": {},
          "execution_count": 30
        }
      ]
    },
    {
      "cell_type": "markdown",
      "source": [
        "# **Question #1 c):**\n",
        "**Find the slope and intercept of the model.**"
      ],
      "metadata": {
        "id": "nYJAbCDgfw0J"
      }
    },
    {
      "cell_type": "code",
      "source": [
        "# Slope \n",
        "lm1.coef_"
      ],
      "metadata": {
        "colab": {
          "base_uri": "https://localhost:8080/"
        },
        "id": "7Af6bzFHf22l",
        "outputId": "b7084fa3-354f-4202-8bd1-9e1d28b439f1"
      },
      "execution_count": null,
      "outputs": [
        {
          "output_type": "execute_result",
          "data": {
            "text/plain": [
              "array([[166.86001569]])"
            ]
          },
          "metadata": {},
          "execution_count": 31
        }
      ]
    },
    {
      "cell_type": "markdown",
      "source": [
        "# **Question #1 d):**\n",
        "**What is the equation of the predicted line? You can use x and yhat or \"engine-size\" or \"price\"**."
      ],
      "metadata": {
        "id": "Pcji3zD-f2Se"
      }
    },
    {
      "cell_type": "code",
      "source": [
        "# using X and Y  \n",
        "Yhat=-7963.34 + 166.86*X\n",
        "\n",
        "Price=-7963.34 + 166.86*df['engine-size']"
      ],
      "metadata": {
        "id": "zeDRCNEZgr3Q"
      },
      "execution_count": null,
      "outputs": []
    },
    {
      "cell_type": "markdown",
      "source": [
        "# **Multiple Linear Regression**"
      ],
      "metadata": {
        "id": "5bkC88CGg6RS"
      }
    },
    {
      "cell_type": "markdown",
      "source": [
        "la multiple regresion lineal se utiliza cuando tenemos mas de una variable independiente. Es muy similar a la regresion lineal simple, la ecuacion queda de la siguiente manera:\n",
        "\n",
        "Y\n",
        "h\n",
        "a\n",
        "t\n",
        "=\n",
        "a\n",
        "+\n",
        "b\n",
        "_\n",
        "1\n",
        "X\n",
        "_\n",
        "1\n",
        "+\n",
        "b\n",
        "_\n",
        "2\n",
        "X\n",
        "_\n",
        "2\n",
        "+\n",
        "b\n",
        "_\n",
        "3\n",
        "X\n",
        "_\n",
        "3\n",
        "+\n",
        "b\n",
        "_\n",
        "4\n",
        "X\n",
        "_\n",
        "4"
      ],
      "metadata": {
        "id": "NCX0bp37g8iQ"
      }
    },
    {
      "cell_type": "markdown",
      "source": [
        "Utilizaremos una variable para poder predecir los valores de salida en una regresion lineal multiple"
      ],
      "metadata": {
        "id": "jr0DCEJZiaJm"
      }
    },
    {
      "cell_type": "code",
      "source": [
        "Z = df[['horsepower', 'curb-weight', 'engine-size', 'highway-mpg']]"
      ],
      "metadata": {
        "id": "qk63-x_GijQq"
      },
      "execution_count": null,
      "outputs": []
    },
    {
      "cell_type": "code",
      "source": [
        "lm.fit(Z, df['price']) # ahora se tendra que ajustar el modelo con nuestra variable de salida"
      ],
      "metadata": {
        "colab": {
          "base_uri": "https://localhost:8080/"
        },
        "id": "ATfx8Idfiq3x",
        "outputId": "56992da2-69f3-46fe-94bf-a84f87be276b"
      },
      "execution_count": null,
      "outputs": [
        {
          "output_type": "execute_result",
          "data": {
            "text/plain": [
              "LinearRegression()"
            ]
          },
          "metadata": {},
          "execution_count": 35
        }
      ]
    },
    {
      "cell_type": "markdown",
      "source": [
        "Estos son los valores del \"intercept\" y del \"slope\" de todas las variables."
      ],
      "metadata": {
        "id": "DGv7dWnrjCva"
      }
    },
    {
      "cell_type": "code",
      "source": [
        "lm.intercept_\n"
      ],
      "metadata": {
        "colab": {
          "base_uri": "https://localhost:8080/"
        },
        "id": "MxGHyMKujPFn",
        "outputId": "2bc7b083-b07d-4774-ce24-250fbefb0b71"
      },
      "execution_count": null,
      "outputs": [
        {
          "output_type": "execute_result",
          "data": {
            "text/plain": [
              "-15806.62462632922"
            ]
          },
          "metadata": {},
          "execution_count": 37
        }
      ]
    },
    {
      "cell_type": "code",
      "source": [
        "lm.coef_\n"
      ],
      "metadata": {
        "colab": {
          "base_uri": "https://localhost:8080/"
        },
        "id": "KKaMMGDwjVdC",
        "outputId": "444e1f35-5dcd-4acd-ebef-0c0b867abf2d"
      },
      "execution_count": null,
      "outputs": [
        {
          "output_type": "execute_result",
          "data": {
            "text/plain": [
              "array([53.49574423,  4.70770099, 81.53026382, 36.05748882])"
            ]
          },
          "metadata": {},
          "execution_count": 38
        }
      ]
    },
    {
      "cell_type": "markdown",
      "source": [
        "Por lo tanto la ecuacion lineal multiple quedaria de la siguiente manera"
      ],
      "metadata": {
        "id": "Ne72-lLcjZCJ"
      }
    },
    {
      "cell_type": "markdown",
      "source": [
        " **Price = -15678.742628061467 + 52.65851272 x horsepower + 4.69878948 x curb-weight + 81.95906216 x engine-size + 33.58258185 x highway-mpg**"
      ],
      "metadata": {
        "id": "-bIiGuSYjeqD"
      }
    },
    {
      "cell_type": "markdown",
      "source": [
        "# **Question #2 a): **\n",
        "Create and train a Multiple Linear Regression model \"lm2\" where the response variable is \"price\", and the predictor variable is \"normalized-losses\" and \"highway-mpg\"."
      ],
      "metadata": {
        "id": "JXUVDip8jhw4"
      }
    },
    {
      "cell_type": "code",
      "source": [
        "lm2 = LinearRegression()\n",
        "lm2.fit(df[['normalized-losses' , 'highway-mpg']],df['price'])"
      ],
      "metadata": {
        "colab": {
          "base_uri": "https://localhost:8080/"
        },
        "id": "i8OiW62EjeGo",
        "outputId": "4702d257-4daa-4f2c-b3d6-13b066a9e259"
      },
      "execution_count": null,
      "outputs": [
        {
          "output_type": "execute_result",
          "data": {
            "text/plain": [
              "LinearRegression()"
            ]
          },
          "metadata": {},
          "execution_count": 39
        }
      ]
    },
    {
      "cell_type": "markdown",
      "source": [
        "# **Question #2 b): **\n",
        "Find the coefficient of the model."
      ],
      "metadata": {
        "id": "ggMdFNPXjslE"
      }
    },
    {
      "cell_type": "code",
      "source": [
        "lm2.coef_"
      ],
      "metadata": {
        "colab": {
          "base_uri": "https://localhost:8080/"
        },
        "id": "SN7w6R3Zjo3a",
        "outputId": "f7f5c0c5-68bb-468f-a0a1-385f64cc982d"
      },
      "execution_count": null,
      "outputs": [
        {
          "output_type": "execute_result",
          "data": {
            "text/plain": [
              "array([   1.49789586, -820.45434016])"
            ]
          },
          "metadata": {},
          "execution_count": 40
        }
      ]
    },
    {
      "cell_type": "markdown",
      "source": [
        "# **Model Evaluation Using Visualization**"
      ],
      "metadata": {
        "id": "AatS6nSckCln"
      }
    },
    {
      "cell_type": "markdown",
      "source": [
        "Libreria de visualizacion , seaborn"
      ],
      "metadata": {
        "id": "Pkaufd_NkEmf"
      }
    },
    {
      "cell_type": "code",
      "source": [
        "# import the visualization package: seaborn\n",
        "import seaborn as sns\n",
        "%matplotlib inline "
      ],
      "metadata": {
        "id": "gLZAsGahkMuB"
      },
      "execution_count": null,
      "outputs": []
    },
    {
      "cell_type": "markdown",
      "source": [
        "# **Regression Plot**"
      ],
      "metadata": {
        "id": "P7r0WT3vkapZ"
      }
    },
    {
      "cell_type": "markdown",
      "source": [
        "Cuando se trata de regresión lineal simple, una excelente manera de visualizar el ajuste de nuestro modelo es mediante gráficos de regresión."
      ],
      "metadata": {
        "id": "__eXpp2ykfsI"
      }
    },
    {
      "cell_type": "code",
      "source": [
        "width = 12\n",
        "height = 10\n",
        "plt.figure(figsize=(width, height))\n",
        "sns.regplot(x=\"highway-mpg\", y=\"price\", data=df)\n",
        "plt.ylim(0,)"
      ],
      "metadata": {
        "colab": {
          "base_uri": "https://localhost:8080/",
          "height": 624
        },
        "id": "vqGAjEs4kfIR",
        "outputId": "880b976e-0cf5-4339-9ff9-afe7cae9f99c"
      },
      "execution_count": null,
      "outputs": [
        {
          "output_type": "execute_result",
          "data": {
            "text/plain": [
              "(0.0, 48178.586593399654)"
            ]
          },
          "metadata": {},
          "execution_count": 42
        },
        {
          "output_type": "display_data",
          "data": {
            "text/plain": [
              "<Figure size 864x720 with 1 Axes>"
            ],
            "image/png": "[encoded data removed]"
          },
          "metadata": {
            "needs_background": "light"
          }
        }
      ]
    },
    {
      "cell_type": "markdown",
      "source": [
        "Vamos a comprar o diferenciar 2 variables independientes contra nuestra salida, en este caso seran: highway-mpg & peak-rpm"
      ],
      "metadata": {
        "id": "kYRdacoekoPu"
      }
    },
    {
      "cell_type": "code",
      "source": [
        "plt.figure(figsize=(width, height))\n",
        "sns.regplot(x=\"peak-rpm\", y=\"price\", data=df)\n",
        "plt.ylim(0,)"
      ],
      "metadata": {
        "colab": {
          "base_uri": "https://localhost:8080/",
          "height": 624
        },
        "id": "uD3UyUVIkwgQ",
        "outputId": "0cd95987-1b0e-43b3-b17e-ad8dba0b5d00"
      },
      "execution_count": null,
      "outputs": [
        {
          "output_type": "execute_result",
          "data": {
            "text/plain": [
              "(0.0, 47414.1)"
            ]
          },
          "metadata": {},
          "execution_count": 43
        },
        {
          "output_type": "display_data",
          "data": {
            "text/plain": [
              "<Figure size 864x720 with 1 Axes>"
            ],
            "image/png": "[encoded data removed]"
          },
          "metadata": {
            "needs_background": "light"
          }
        }
      ]
    },
    {
      "cell_type": "markdown",
      "source": [
        "# **Question #3:**\n",
        "Given the regression plots above, is \"peak-rpm\" or \"highway-mpg\" more strongly correlated with \"price\"? Use the method \".corr()\" to verify your answer."
      ],
      "metadata": {
        "id": "-DkZmY4UlBGe"
      }
    },
    {
      "cell_type": "code",
      "source": [
        "# La variable \"mpg en carretera\" tiene una correlación más fuerte con \"precio\", es aproximadamente -0.704692 en comparación con \"rpm pico\", que es aproximadamente -0.101616. Puedes verificarlo usando el siguiente comando:\n",
        "\n",
        "df[[\"peak-rpm\",\"highway-mpg\",\"price\"]].corr()"
      ],
      "metadata": {
        "colab": {
          "base_uri": "https://localhost:8080/",
          "height": 143
        },
        "id": "wAQ3vH3ylGKg",
        "outputId": "83d5b4ec-fbd1-45df-f8c4-d3f450632ae8"
      },
      "execution_count": null,
      "outputs": [
        {
          "output_type": "execute_result",
          "data": {
            "text/plain": [
              "             peak-rpm  highway-mpg     price\n",
              "peak-rpm     1.000000    -0.058598 -0.101616\n",
              "highway-mpg -0.058598     1.000000 -0.704692\n",
              "price       -0.101616    -0.704692  1.000000"
            ],
            "text/html": [
              "\n",
              "  <div id=\"df-c8da6c1e-0113-482b-af38-79f282b8bd09\">\n",
              "    <div class=\"colab-df-container\">\n",
              "      <div>\n",
              "<style scoped>\n",
              "    .dataframe tbody tr th:only-of-type {\n",
              "        vertical-align: middle;\n",
              "    }\n",
              "\n",
              "    .dataframe tbody tr th {\n",
              "        vertical-align: top;\n",
              "    }\n",
              "\n",
              "    .dataframe thead th {\n",
              "        text-align: right;\n",
              "    }\n",
              "</style>\n",
              "<table border=\"1\" class=\"dataframe\">\n",
              "  <thead>\n",
              "    <tr style=\"text-align: right;\">\n",
              "      <th></th>\n",
              "      <th>peak-rpm</th>\n",
              "      <th>highway-mpg</th>\n",
              "      <th>price</th>\n",
              "    </tr>\n",
              "  </thead>\n",
              "  <tbody>\n",
              "    <tr>\n",
              "      <th>peak-rpm</th>\n",
              "      <td>1.000000</td>\n",
              "      <td>-0.058598</td>\n",
              "      <td>-0.101616</td>\n",
              "    </tr>\n",
              "    <tr>\n",
              "      <th>highway-mpg</th>\n",
              "      <td>-0.058598</td>\n",
              "      <td>1.000000</td>\n",
              "      <td>-0.704692</td>\n",
              "    </tr>\n",
              "    <tr>\n",
              "      <th>price</th>\n",
              "      <td>-0.101616</td>\n",
              "      <td>-0.704692</td>\n",
              "      <td>1.000000</td>\n",
              "    </tr>\n",
              "  </tbody>\n",
              "</table>\n",
              "</div>\n",
              "      <button class=\"colab-df-convert\" onclick=\"convertToInteractive('df-c8da6c1e-0113-482b-af38-79f282b8bd09')\"\n",
              "              title=\"Convert this dataframe to an interactive table.\"\n",
              "              style=\"display:none;\">\n",
              "        \n",
              "  <svg xmlns=\"http://www.w3.org/2000/svg\" height=\"24px\"viewBox=\"0 0 24 24\"\n",
              "       width=\"24px\">\n",
              "    <path d=\"M0 0h24v24H0V0z\" fill=\"none\"/>\n",
              "    <path d=\"M18.56 5.44l.94 2.06.94-2.06 2.06-.94-2.06-.94-.94-2.06-.94 2.06-2.06.94zm-11 1L8.5 8.5l.94-2.06 2.06-.94-2.06-.94L8.5 2.5l-.94 2.06-2.06.94zm10 10l.94 2.06.94-2.06 2.06-.94-2.06-.94-.94-2.06-.94 2.06-2.06.94z\"/><path d=\"M17.41 7.96l-1.37-1.37c-.4-.4-.92-.59-1.43-.59-.52 0-1.04.2-1.43.59L10.3 9.45l-7.72 7.72c-.78.78-.78 2.05 0 2.83L4 21.41c.39.39.9.59 1.41.59.51 0 1.02-.2 1.41-.59l7.78-7.78 2.81-2.81c.8-.78.8-2.07 0-2.86zM5.41 20L4 18.59l7.72-7.72 1.47 1.35L5.41 20z\"/>\n",
              "  </svg>\n",
              "      </button>\n",
              "      \n",
              "  <style>\n",
              "    .colab-df-container {\n",
              "      display:flex;\n",
              "      flex-wrap:wrap;\n",
              "      gap: 12px;\n",
              "    }\n",
              "\n",
              "    .colab-df-convert {\n",
              "      background-color: #E8F0FE;\n",
              "      border: none;\n",
              "      border-radius: 50%;\n",
              "      cursor: pointer;\n",
              "      display: none;\n",
              "      fill: #1967D2;\n",
              "      height: 32px;\n",
              "      padding: 0 0 0 0;\n",
              "      width: 32px;\n",
              "    }\n",
              "\n",
              "    .colab-df-convert:hover {\n",
              "      background-color: #E2EBFA;\n",
              "      box-shadow: 0px 1px 2px rgba(60, 64, 67, 0.3), 0px 1px 3px 1px rgba(60, 64, 67, 0.15);\n",
              "      fill: #174EA6;\n",
              "    }\n",
              "\n",
              "    [theme=dark] .colab-df-convert {\n",
              "      background-color: #3B4455;\n",
              "      fill: #D2E3FC;\n",
              "    }\n",
              "\n",
              "    [theme=dark] .colab-df-convert:hover {\n",
              "      background-color: #434B5C;\n",
              "      box-shadow: 0px 1px 3px 1px rgba(0, 0, 0, 0.15);\n",
              "      filter: drop-shadow(0px 1px 2px rgba(0, 0, 0, 0.3));\n",
              "      fill: #FFFFFF;\n",
              "    }\n",
              "  </style>\n",
              "\n",
              "      <script>\n",
              "        const buttonEl =\n",
              "          document.querySelector('#df-c8da6c1e-0113-482b-af38-79f282b8bd09 button.colab-df-convert');\n",
              "        buttonEl.style.display =\n",
              "          google.colab.kernel.accessAllowed ? 'block' : 'none';\n",
              "\n",
              "        async function convertToInteractive(key) {\n",
              "          const element = document.querySelector('#df-c8da6c1e-0113-482b-af38-79f282b8bd09');\n",
              "          const dataTable =\n",
              "            await google.colab.kernel.invokeFunction('convertToInteractive',\n",
              "                                                     [key], {});\n",
              "          if (!dataTable) return;\n",
              "\n",
              "          const docLinkHtml = 'Like what you see? Visit the ' +\n",
              "            '<a target=\"_blank\" href=https://colab.research.google.com/notebooks/data_table.ipynb>data table notebook</a>'\n",
              "            + ' to learn more about interactive tables.';\n",
              "          element.innerHTML = '';\n",
              "          dataTable['output_type'] = 'display_data';\n",
              "          await google.colab.output.renderOutput(dataTable, element);\n",
              "          const docLink = document.createElement('div');\n",
              "          docLink.innerHTML = docLinkHtml;\n",
              "          element.appendChild(docLink);\n",
              "        }\n",
              "      </script>\n",
              "    </div>\n",
              "  </div>\n",
              "  "
            ]
          },
          "metadata": {},
          "execution_count": 44
        }
      ]
    },
    {
      "cell_type": "markdown",
      "source": [
        "# **Residual Plot**"
      ],
      "metadata": {
        "id": "Gt6xuTrHlQzY"
      }
    },
    {
      "cell_type": "markdown",
      "source": [
        "La diferencia entre el valor observado (y) y el valor pronosticado (Yhat) se llama residual (e). Cuando observamos un gráfico de regresión, el residuo es la distancia desde el punto de datos hasta la línea de regresión ajustada."
      ],
      "metadata": {
        "id": "TjrpRSDXlmPg"
      }
    },
    {
      "cell_type": "markdown",
      "source": [
        "Entonces el residual plot es basicamente una herrameinta que nos ayudará a visualiar de manera facil las diferencias que existen entre el valor real con el de prediccion"
      ],
      "metadata": {
        "id": "Jz0aDqzklsXU"
      }
    },
    {
      "cell_type": "code",
      "source": [
        "width = 12\n",
        "height = 10\n",
        "plt.figure(figsize=(width, height))\n",
        "sns.residplot(x=df['highway-mpg'],y=df['price'])\n",
        "plt.show()"
      ],
      "metadata": {
        "colab": {
          "base_uri": "https://localhost:8080/",
          "height": 606
        },
        "id": "tn8-f-I2l3Af",
        "outputId": "f23ac61d-a0ab-4aea-ed47-af348b1a8719"
      },
      "execution_count": null,
      "outputs": [
        {
          "output_type": "display_data",
          "data": {
            "text/plain": [
              "<Figure size 864x720 with 1 Axes>"
            ],
            "image/png": "[encoded data removed]"
          },
          "metadata": {
            "needs_background": "light"
          }
        }
      ]
    },
    {
      "cell_type": "markdown",
      "source": [
        "# **Multiple Linear Regression**"
      ],
      "metadata": {
        "id": "K4gin8Sjl-xv"
      }
    },
    {
      "cell_type": "markdown",
      "source": [
        "¿Cómo visualizamos un modelo de regresión lineal múltiple? Esto se vuelve un poco más complicado porque no se puede visualizar con regresión o gráfico residual.\n",
        "\n",
        "Una forma de ver el ajuste del modelo es mirar el gráfico de distribución. Podemos observar la distribución de los valores ajustados que resultan del modelo y compararla con la distribución de los valores reales."
      ],
      "metadata": {
        "id": "Vxl1Sr0jmH8k"
      }
    },
    {
      "cell_type": "code",
      "source": [
        "Y_hat = lm.predict(Z)"
      ],
      "metadata": {
        "id": "OxPMZzflmDZK"
      },
      "execution_count": null,
      "outputs": []
    },
    {
      "cell_type": "code",
      "source": [
        "plt.figure(figsize=(width, height))\n",
        "\n",
        "\n",
        "ax1 = sns.distplot(df['price'], hist=False, color=\"r\", label=\"Actual Value\")\n",
        "sns.distplot(Y_hat, hist=False, color=\"b\", label=\"Fitted Values\" , ax=ax1)\n",
        "\n",
        "\n",
        "plt.title('Actual vs Fitted Values for Price')\n",
        "plt.xlabel('Price (in dollars)')\n",
        "plt.ylabel('Proportion of Cars')\n",
        "\n",
        "plt.show()\n",
        "plt.close()"
      ],
      "metadata": {
        "colab": {
          "base_uri": "https://localhost:8080/",
          "height": 715
        },
        "id": "8AFaD3JWmNjy",
        "outputId": "cba592a8-3a41-40b9-a7e9-194ff8e1e895"
      },
      "execution_count": null,
      "outputs": [
        {
          "output_type": "stream",
          "name": "stderr",
          "text": [
            "/usr/local/lib/python3.7/dist-packages/seaborn/distributions.py:2619: FutureWarning: `distplot` is a deprecated function and will be removed in a future version. Please adapt your code to use either `displot` (a figure-level function with similar flexibility) or `kdeplot` (an axes-level function for kernel density plots).\n",
            "  warnings.warn(msg, FutureWarning)\n",
            "/usr/local/lib/python3.7/dist-packages/seaborn/distributions.py:2619: FutureWarning: `distplot` is a deprecated function and will be removed in a future version. Please adapt your code to use either `displot` (a figure-level function with similar flexibility) or `kdeplot` (an axes-level function for kernel density plots).\n",
            "  warnings.warn(msg, FutureWarning)\n"
          ]
        },
        {
          "output_type": "display_data",
          "data": {
            "text/plain": [
              "<Figure size 864x720 with 1 Axes>"
            ],
            "image/png": "[encoded data removed]"
          },
          "metadata": {
            "needs_background": "light"
          }
        }
      ]
    },
    {
      "cell_type": "markdown",
      "source": [
        "# **Polynomial Regression and Pipelines**"
      ],
      "metadata": {
        "id": "65vUU9n0mUhK"
      }
    },
    {
      "cell_type": "markdown",
      "source": [
        "La regresión polinomial es un caso particular del modelo de regresión lineal general o de los modelos de regresión lineal múltiple.\n",
        "\n",
        "Obtenemos relaciones no lineales elevando al cuadrado o estableciendo términos de orden superior de las variables predictoras."
      ],
      "metadata": {
        "id": "xylAWKqxmbmK"
      }
    },
    {
      "cell_type": "code",
      "source": [
        "def PlotPolly(model, independent_variable, dependent_variabble, Name):\n",
        "    x_new = np.linspace(15, 55, 100)\n",
        "    y_new = model(x_new)\n",
        "\n",
        "    plt.plot(independent_variable, dependent_variabble, '.', x_new, y_new, '-')\n",
        "    plt.title('Polynomial Fit with Matplotlib for Price ~ Length')\n",
        "    ax = plt.gca()\n",
        "    ax.set_facecolor((0.898, 0.898, 0.898))\n",
        "    fig = plt.gcf()\n",
        "    plt.xlabel(Name)\n",
        "    plt.ylabel('Price of Cars')\n",
        "\n",
        "    plt.show()\n",
        "    plt.close()"
      ],
      "metadata": {
        "id": "YjR9EBYumchb"
      },
      "execution_count": null,
      "outputs": []
    },
    {
      "cell_type": "code",
      "source": [
        "x = df['highway-mpg']\n",
        "y = df['price']"
      ],
      "metadata": {
        "id": "alGJE5KSmiqL"
      },
      "execution_count": null,
      "outputs": []
    },
    {
      "cell_type": "markdown",
      "source": [
        "Ajustemos el polinomio usando la función polyfit, luego usemos la función poly1d para mostrar la función polinomial."
      ],
      "metadata": {
        "id": "gwmpWYK4mqRe"
      }
    },
    {
      "cell_type": "code",
      "source": [
        "# Here we use a polynomial of the 3rd order (cubic) \n",
        "f = np.polyfit(x, y, 3)\n",
        "p = np.poly1d(f)\n",
        "print(p)"
      ],
      "metadata": {
        "colab": {
          "base_uri": "https://localhost:8080/"
        },
        "id": "3jN0HnhJmq4p",
        "outputId": "c9ebda29-080f-4ac3-8b96-ea129e3bbdd2"
      },
      "execution_count": null,
      "outputs": [
        {
          "output_type": "stream",
          "name": "stdout",
          "text": [
            "        3         2\n",
            "-1.557 x + 204.8 x - 8965 x + 1.379e+05\n"
          ]
        }
      ]
    },
    {
      "cell_type": "code",
      "source": [
        "PlotPolly(p, x, y, 'highway-mpg')"
      ],
      "metadata": {
        "colab": {
          "base_uri": "https://localhost:8080/",
          "height": 295
        },
        "id": "EqNSi3RHm1HX",
        "outputId": "37c9109a-7511-4efa-e81c-7abdecdbb615"
      },
      "execution_count": null,
      "outputs": [
        {
          "output_type": "display_data",
          "data": {
            "text/plain": [
              "<Figure size 432x288 with 1 Axes>"
            ],
            "image/png": "[encoded data removed]"
          },
          "metadata": {
            "needs_background": "light"
          }
        }
      ]
    },
    {
      "cell_type": "code",
      "source": [
        "np.polyfit(x, y, 3)"
      ],
      "metadata": {
        "colab": {
          "base_uri": "https://localhost:8080/"
        },
        "id": "rRHWhD-em43c",
        "outputId": "3550263e-0717-40d4-a14c-d4726a04609a"
      },
      "execution_count": null,
      "outputs": [
        {
          "output_type": "execute_result",
          "data": {
            "text/plain": [
              "array([-1.55663829e+00,  2.04754306e+02, -8.96543312e+03,  1.37923594e+05])"
            ]
          },
          "metadata": {},
          "execution_count": 52
        }
      ]
    },
    {
      "cell_type": "markdown",
      "source": [
        "# **Question #4:**\n",
        "Create 11 order polynomial model with the variables x and y from above."
      ],
      "metadata": {
        "id": "AhTmy55rm8Hr"
      }
    },
    {
      "cell_type": "code",
      "source": [
        "# Here we use a polynomial of the 11rd order (cubic) \n",
        "f1 = np.polyfit(x, y, 11)\n",
        "p1 = np.poly1d(f1)\n",
        "print(p1)\n",
        "PlotPolly(p1,x,y, 'Highway MPG')"
      ],
      "metadata": {
        "colab": {
          "base_uri": "https://localhost:8080/",
          "height": 369
        },
        "id": "iGHXCjKBm7ya",
        "outputId": "2d55fb6f-b24d-4f3f-b94c-b607105e743b"
      },
      "execution_count": null,
      "outputs": [
        {
          "output_type": "stream",
          "name": "stdout",
          "text": [
            "            11             10             9           8         7\n",
            "-1.243e-08 x  + 4.722e-06 x  - 0.0008028 x + 0.08056 x - 5.297 x\n",
            "          6        5             4             3             2\n",
            " + 239.5 x - 7588 x + 1.684e+05 x - 2.565e+06 x + 2.551e+07 x - 1.491e+08 x + 3.879e+08\n"
          ]
        },
        {
          "output_type": "display_data",
          "data": {
            "text/plain": [
              "<Figure size 432x288 with 1 Axes>"
            ],
            "image/png": "[encoded data removed]"
          },
          "metadata": {
            "needs_background": "light"
          }
        }
      ]
    },
    {
      "cell_type": "code",
      "source": [
        "from sklearn.preprocessing import PolynomialFeatures"
      ],
      "metadata": {
        "id": "xTvfsEHcnF57"
      },
      "execution_count": null,
      "outputs": []
    },
    {
      "cell_type": "code",
      "source": [
        "pr=PolynomialFeatures(degree=2)\n",
        "pr"
      ],
      "metadata": {
        "colab": {
          "base_uri": "https://localhost:8080/"
        },
        "id": "dlbqpopJnIAc",
        "outputId": "6b6f28ef-df6c-4a89-c63b-eade0692158a"
      },
      "execution_count": null,
      "outputs": [
        {
          "output_type": "execute_result",
          "data": {
            "text/plain": [
              "PolynomialFeatures()"
            ]
          },
          "metadata": {},
          "execution_count": 55
        }
      ]
    },
    {
      "cell_type": "code",
      "source": [
        "Z_pr=pr.fit_transform(Z)"
      ],
      "metadata": {
        "id": "wRfgbtpynKq8"
      },
      "execution_count": null,
      "outputs": []
    },
    {
      "cell_type": "code",
      "source": [
        "Z.shape"
      ],
      "metadata": {
        "colab": {
          "base_uri": "https://localhost:8080/"
        },
        "id": "j4b7Dc0nnMrX",
        "outputId": "7ea05ca9-4fb9-46ca-8bec-67938ae65d46"
      },
      "execution_count": null,
      "outputs": [
        {
          "output_type": "execute_result",
          "data": {
            "text/plain": [
              "(201, 4)"
            ]
          },
          "metadata": {},
          "execution_count": 57
        }
      ]
    },
    {
      "cell_type": "code",
      "source": [
        "Z_pr.shape"
      ],
      "metadata": {
        "colab": {
          "base_uri": "https://localhost:8080/"
        },
        "id": "j9ctWcJjnOzE",
        "outputId": "3278d43c-e7f9-49f4-e3fa-210a9dc3f53e"
      },
      "execution_count": null,
      "outputs": [
        {
          "output_type": "execute_result",
          "data": {
            "text/plain": [
              "(201, 15)"
            ]
          },
          "metadata": {},
          "execution_count": 58
        }
      ]
    },
    {
      "cell_type": "markdown",
      "source": [
        "# **Pipeline**"
      ],
      "metadata": {
        "id": "Bh0IDMnsnSdb"
      }
    },
    {
      "cell_type": "markdown",
      "source": [
        "Las canalizaciones de datos simplifican los pasos para procesar los datos. Usamos el módulo Pipeline para crear un pipeline. También usamos StandardScaler como un paso en nuestra canalización."
      ],
      "metadata": {
        "id": "ThmyOIDBne4K"
      }
    },
    {
      "cell_type": "code",
      "source": [
        "from sklearn.pipeline import Pipeline\n",
        "from sklearn.preprocessing import StandardScaler"
      ],
      "metadata": {
        "id": "1WIxrXwunZWN"
      },
      "execution_count": null,
      "outputs": []
    },
    {
      "cell_type": "code",
      "source": [
        "Input=[('scale',StandardScaler()), ('polynomial', PolynomialFeatures(include_bias=False)), ('model',LinearRegression())]"
      ],
      "metadata": {
        "id": "sAN1Q4FDnp4E"
      },
      "execution_count": null,
      "outputs": []
    },
    {
      "cell_type": "code",
      "source": [
        "pipe=Pipeline(Input)\n",
        "pipe"
      ],
      "metadata": {
        "colab": {
          "base_uri": "https://localhost:8080/"
        },
        "id": "ivXmo0xonsQs",
        "outputId": "7f12489a-2ce5-4ec9-9bb8-63b2e7bcc069"
      },
      "execution_count": null,
      "outputs": [
        {
          "output_type": "execute_result",
          "data": {
            "text/plain": [
              "Pipeline(steps=[('scale', StandardScaler()),\n",
              "                ('polynomial', PolynomialFeatures(include_bias=False)),\n",
              "                ('model', LinearRegression())])"
            ]
          },
          "metadata": {},
          "execution_count": 61
        }
      ]
    },
    {
      "cell_type": "code",
      "source": [
        "Z = Z.astype(float)\n",
        "pipe.fit(Z,y)"
      ],
      "metadata": {
        "colab": {
          "base_uri": "https://localhost:8080/"
        },
        "id": "Gbf8h3HHnvE5",
        "outputId": "e05893fb-8a99-437d-b228-d824c216bac2"
      },
      "execution_count": null,
      "outputs": [
        {
          "output_type": "execute_result",
          "data": {
            "text/plain": [
              "Pipeline(steps=[('scale', StandardScaler()),\n",
              "                ('polynomial', PolynomialFeatures(include_bias=False)),\n",
              "                ('model', LinearRegression())])"
            ]
          },
          "metadata": {},
          "execution_count": 62
        }
      ]
    },
    {
      "cell_type": "code",
      "source": [
        "ypipe=pipe.predict(Z)\n",
        "ypipe[0:4]"
      ],
      "metadata": {
        "colab": {
          "base_uri": "https://localhost:8080/"
        },
        "id": "UcZKNE0OnyJ_",
        "outputId": "6907371c-75ed-4aa3-ee64-895d1847b9dc"
      },
      "execution_count": null,
      "outputs": [
        {
          "output_type": "execute_result",
          "data": {
            "text/plain": [
              "array([13102.74784201, 13102.74784201, 18225.54572197, 10390.29636555])"
            ]
          },
          "metadata": {},
          "execution_count": 63
        }
      ]
    },
    {
      "cell_type": "markdown",
      "source": [
        "# **Question #5:**\n",
        "Create a pipeline that standardizes the data, then produce a prediction using a linear regression model using the features Z and target y.**"
      ],
      "metadata": {
        "id": "wMl65tIwn0ML"
      }
    },
    {
      "cell_type": "code",
      "source": [
        "Input=[('scale',StandardScaler()),('model',LinearRegression())]\n",
        "\n",
        "pipe=Pipeline(Input)\n",
        "\n",
        "pipe.fit(Z,y)\n",
        "\n",
        "ypipe=pipe.predict(Z)\n",
        "ypipe[0:10]"
      ],
      "metadata": {
        "colab": {
          "base_uri": "https://localhost:8080/"
        },
        "id": "g9N15sOcn5yY",
        "outputId": "8ce0355c-8e4d-4910-a063-2ba94802513c"
      },
      "execution_count": null,
      "outputs": [
        {
          "output_type": "execute_result",
          "data": {
            "text/plain": [
              "array([13699.11161184, 13699.11161184, 19051.65470233, 10620.36193015,\n",
              "       15521.31420211, 13869.66673213, 15456.16196732, 15974.00907672,\n",
              "       17612.35917161, 10722.32509097])"
            ]
          },
          "metadata": {},
          "execution_count": 64
        }
      ]
    },
    {
      "cell_type": "markdown",
      "source": [
        "# **Measures for In-Sample Evaluation**"
      ],
      "metadata": {
        "id": "di09p_o1oDCb"
      }
    },
    {
      "cell_type": "markdown",
      "source": [
        "Dos medidas muy importantes que se utilizan a menudo en Estadística para determinar la precisión de un modelo son:\n",
        "\n",
        "R^2 / R-cuadrado\n",
        "Error cuadrático medio (MSE)\n",
        "R-cuadrado\n",
        "\n",
        "R cuadrado, también conocido como coeficiente de determinación, es una medida para indicar qué tan cerca están los datos de la línea de regresión ajustada.\n",
        "\n",
        "El valor de la R-cuadrado es el porcentaje de variación de la variable de respuesta (y) que se explica mediante un modelo lineal.\n",
        "\n",
        "Error cuadrático medio (MSE)\n",
        "\n",
        "El error cuadrático medio mide el promedio de los cuadrados de los errores. Es decir, la diferencia entre el valor real (y) y el valor estimado (ŷ)."
      ],
      "metadata": {
        "id": "lRagR09Wn308"
      }
    },
    {
      "cell_type": "markdown",
      "source": [
        "**Model 1: Simple Linear Regression**"
      ],
      "metadata": {
        "id": "cNtyJVrRooRY"
      }
    },
    {
      "cell_type": "code",
      "source": [
        "#highway_mpg_fit\n",
        "lm.fit(X, Y)\n",
        "# Find the R^2\n",
        "print('The R-square is: ', lm.score(X, Y))"
      ],
      "metadata": {
        "colab": {
          "base_uri": "https://localhost:8080/"
        },
        "id": "mSkO4WKKoL2T",
        "outputId": "6992657b-0b4f-4c40-acfa-f3a98949be9e"
      },
      "execution_count": null,
      "outputs": [
        {
          "output_type": "stream",
          "name": "stdout",
          "text": [
            "The R-square is:  0.4965911884339176\n"
          ]
        }
      ]
    },
    {
      "cell_type": "code",
      "source": [
        "Yhat=lm.predict(X)\n",
        "print('The output of the first four predicted value is: ', Yhat[0:4])"
      ],
      "metadata": {
        "colab": {
          "base_uri": "https://localhost:8080/"
        },
        "id": "ycYTIXRNoUvM",
        "outputId": "6b4a05ea-7059-419f-91ff-675941510636"
      },
      "execution_count": null,
      "outputs": [
        {
          "output_type": "stream",
          "name": "stdout",
          "text": [
            "The output of the first four predicted value is:  [16236.50464347 16236.50464347 17058.23802179 13771.3045085 ]\n"
          ]
        }
      ]
    },
    {
      "cell_type": "code",
      "source": [
        "from sklearn.metrics import mean_squared_error"
      ],
      "metadata": {
        "id": "Nu4e1B61oXtI"
      },
      "execution_count": null,
      "outputs": []
    },
    {
      "cell_type": "code",
      "source": [
        "mse = mean_squared_error(df['price'], Yhat)\n",
        "print('The mean square error of price and predicted value is: ', mse)"
      ],
      "metadata": {
        "colab": {
          "base_uri": "https://localhost:8080/"
        },
        "id": "LoSZK1nGoaSB",
        "outputId": "c59e9b06-96d9-49e7-8963-061791dadf80"
      },
      "execution_count": null,
      "outputs": [
        {
          "output_type": "stream",
          "name": "stdout",
          "text": [
            "The mean square error of price and predicted value is:  31635042.944639888\n"
          ]
        }
      ]
    },
    {
      "cell_type": "markdown",
      "source": [
        "**Model 2: Multiple Linear Regressio**n"
      ],
      "metadata": {
        "id": "v6xWv5-bosMw"
      }
    },
    {
      "cell_type": "markdown",
      "source": [
        "Let's calculate the R^2"
      ],
      "metadata": {
        "id": "NHYRKXlVo25A"
      }
    },
    {
      "cell_type": "code",
      "source": [
        "# fit the model \n",
        "lm.fit(Z, df['price'])\n",
        "# Find the R^2\n",
        "print('The R-square is: ', lm.score(Z, df['price']))"
      ],
      "metadata": {
        "colab": {
          "base_uri": "https://localhost:8080/"
        },
        "id": "FgYMr00CoxYM",
        "outputId": "2a69fe1b-a575-485c-b405-869a83cf2fea"
      },
      "execution_count": null,
      "outputs": [
        {
          "output_type": "stream",
          "name": "stdout",
          "text": [
            "The R-square is:  0.8093562806577457\n"
          ]
        }
      ]
    },
    {
      "cell_type": "code",
      "source": [
        "Y_predict_multifit = lm.predict(Z)"
      ],
      "metadata": {
        "id": "yHX4cJUgo8Wn"
      },
      "execution_count": null,
      "outputs": []
    },
    {
      "cell_type": "code",
      "source": [
        "print('The mean square error of price and predicted value using multifit is: ', \\\n",
        "      mean_squared_error(df['price'], Y_predict_multifit))"
      ],
      "metadata": {
        "colab": {
          "base_uri": "https://localhost:8080/"
        },
        "id": "QztPTmdAo-tk",
        "outputId": "7ebe6a78-0923-45b1-b6de-cffd22c02cb2"
      },
      "execution_count": null,
      "outputs": [
        {
          "output_type": "stream",
          "name": "stdout",
          "text": [
            "The mean square error of price and predicted value using multifit is:  11980366.87072649\n"
          ]
        }
      ]
    },
    {
      "cell_type": "markdown",
      "source": [
        "**Model 3: Polynomial Fit**"
      ],
      "metadata": {
        "id": "Mc2pJ1StpBPJ"
      }
    },
    {
      "cell_type": "code",
      "source": [
        "from sklearn.metrics import r2_score"
      ],
      "metadata": {
        "id": "gkC11994pCu_"
      },
      "execution_count": null,
      "outputs": []
    },
    {
      "cell_type": "code",
      "source": [
        "r_squared = r2_score(y, p(x))\n",
        "print('The R-square value is: ', r_squared)"
      ],
      "metadata": {
        "colab": {
          "base_uri": "https://localhost:8080/"
        },
        "id": "7CqvTQDcpFkp",
        "outputId": "76e4e2e6-e203-43af-c181-5d14078b2bb0"
      },
      "execution_count": null,
      "outputs": [
        {
          "output_type": "stream",
          "name": "stdout",
          "text": [
            "The R-square value is:  0.674194666390652\n"
          ]
        }
      ]
    },
    {
      "cell_type": "code",
      "source": [
        "mean_squared_error(df['price'], p(x))"
      ],
      "metadata": {
        "colab": {
          "base_uri": "https://localhost:8080/"
        },
        "id": "J06-Ms6bpJ3H",
        "outputId": "a9caad6e-3118-47ae-9ced-7dfc58e25b44"
      },
      "execution_count": null,
      "outputs": [
        {
          "output_type": "execute_result",
          "data": {
            "text/plain": [
              "20474146.426361218"
            ]
          },
          "metadata": {},
          "execution_count": 74
        }
      ]
    }
  ]
}
