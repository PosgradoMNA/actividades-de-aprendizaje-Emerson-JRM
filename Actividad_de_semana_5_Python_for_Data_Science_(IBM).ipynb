{
  "nbformat": 4,
  "nbformat_minor": 0,
  "metadata": {
    "colab": {
      "name": "Actividad_de_semana_4_Python_for_Data_Science_(IBM).ipynb",
      "provenance": [],
      "include_colab_link": true
    },
    "kernelspec": {
      "name": "python3",
      "display_name": "Python 3"
    },
    "language_info": {
      "name": "python"
    }
  },
  "cells": [
    {
      "cell_type": "markdown",
      "metadata": {
        "id": "view-in-github",
        "colab_type": "text"
      },
      "source": [
        "<a href=\"https://colab.research.google.com/github/PosgradoMNA/actividades-de-aprendizaje-Emerson-JRM/blob/main/Actividad_de_semana_5_Python_for_Data_Science_(IBM).ipynb\" target=\"_parent\"><img src=\"https://colab.research.google.com/assets/colab-badge.svg\" alt=\"Open In Colab\"/></a>"
      ]
    },
    {
      "cell_type": "markdown",
      "source": [
        "**Pregunta 1** - What is the result of the following operation: np.array([1,-1])*np.array([1,1])?"
      ],
      "metadata": {
        "id": "-CocxRj6ffll"
      }
    },
    {
      "cell_type": "code",
      "source": [
        "import numpy as np\n",
        "np.array([1,-1])*np.array([1,1])"
      ],
      "metadata": {
        "id": "mxM_WppZPMFx",
        "outputId": "493a210d-7522-4475-e538-7d4a229959a4",
        "colab": {
          "base_uri": "https://localhost:8080/"
        }
      },
      "execution_count": 2,
      "outputs": [
        {
          "output_type": "execute_result",
          "data": {
            "text/plain": [
              "array([ 1, -1])"
            ]
          },
          "metadata": {},
          "execution_count": 2
        }
      ]
    },
    {
      "cell_type": "markdown",
      "source": [
        "**En las Matrices, Arreglos o cualquier operacion aritmética cualquier numero multimplicado por la unidad da como resultado 1**"
      ],
      "metadata": {
        "id": "thjI6qAwgVWE"
      }
    },
    {
      "cell_type": "markdown",
      "source": [
        "**Pregunta 2** - What is the result of the following operation: np.dot(np.array([1,-1]),np.array([1,1]))?\n",
        "\n",
        "\n"
      ],
      "metadata": {
        "id": "L9nony40haCW"
      }
    },
    {
      "cell_type": "code",
      "source": [
        "np.dot(np.array([1,-1]),np.array([1,1]))"
      ],
      "metadata": {
        "id": "NskyNGFcg2yk",
        "outputId": "c2e0e02f-56e3-4f95-8c37-a01e55b78cd3",
        "colab": {
          "base_uri": "https://localhost:8080/"
        }
      },
      "execution_count": 5,
      "outputs": [
        {
          "output_type": "execute_result",
          "data": {
            "text/plain": [
              "0"
            ]
          },
          "metadata": {},
          "execution_count": 5
        }
      ]
    },
    {
      "cell_type": "markdown",
      "source": [
        "****************************************************************************************************************************************************************"
      ],
      "metadata": {
        "id": "JUiUcqh726Xn"
      }
    },
    {
      "cell_type": "markdown",
      "source": [
        "# **1D Numpy in Python**"
      ],
      "metadata": {
        "id": "PoafviyL9Qz2"
      }
    },
    {
      "cell_type": "markdown",
      "source": [
        "Generacion de Array de una linea, utilizando la libreria Numpy"
      ],
      "metadata": {
        "id": "ADjZJkcX3ELr"
      }
    },
    {
      "cell_type": "code",
      "source": [
        "a = np.array([0, 1, 2, 3, 4])\n",
        "a"
      ],
      "metadata": {
        "id": "okv0CwHO3se9",
        "outputId": "bb27963f-fda2-440b-f0bb-04bbc19aeba4",
        "colab": {
          "base_uri": "https://localhost:8080/"
        }
      },
      "execution_count": 4,
      "outputs": [
        {
          "output_type": "execute_result",
          "data": {
            "text/plain": [
              "array([0, 1, 2, 3, 4])"
            ]
          },
          "metadata": {},
          "execution_count": 4
        }
      ]
    },
    {
      "cell_type": "markdown",
      "source": [
        "Puedes Ingresar a cada valor del arreglo usando corchetes, en este caso el arreglo tiene valores de enteros"
      ],
      "metadata": {
        "id": "eNb_QzPi4bF_"
      }
    },
    {
      "cell_type": "code",
      "source": [
        "# Print each element\n",
        "\n",
        "print(\"a[0]:\", a[0])\n",
        "print(\"a[1]:\", a[1])\n",
        "print(\"a[2]:\", a[2])\n",
        "print(\"a[3]:\", a[3])\n",
        "print(\"a[4]:\", a[4])"
      ],
      "metadata": {
        "id": "AeEoq1LE4mG9",
        "outputId": "af3f5ee7-c6df-42ef-d044-977ad737e710",
        "colab": {
          "base_uri": "https://localhost:8080/"
        }
      },
      "execution_count": 6,
      "outputs": [
        {
          "output_type": "stream",
          "name": "stdout",
          "text": [
            "a[0]: 0\n",
            "a[1]: 1\n",
            "a[2]: 2\n",
            "a[3]: 3\n",
            "a[4]: 4\n"
          ]
        }
      ]
    },
    {
      "cell_type": "markdown",
      "source": [
        "La version del Numpy"
      ],
      "metadata": {
        "id": "F8j5gdzH4o63"
      }
    },
    {
      "cell_type": "code",
      "source": [
        "print(np.__version__)"
      ],
      "metadata": {
        "id": "0xLqrX4t5GEP",
        "outputId": "ebacd31f-a567-40e5-90e9-1f49ea8d8e0a",
        "colab": {
          "base_uri": "https://localhost:8080/"
        }
      },
      "execution_count": 7,
      "outputs": [
        {
          "output_type": "stream",
          "name": "stdout",
          "text": [
            "1.21.6\n"
          ]
        }
      ]
    },
    {
      "cell_type": "markdown",
      "source": [
        "El tipo de arreglo que esta mostrado es un flotante de 64 bits\n",
        "\n"
      ],
      "metadata": {
        "id": "iRT42W1d5R9I"
      }
    },
    {
      "cell_type": "code",
      "source": [
        "b = np.array([3.1, 11.02, 6.2, 213.2, 5.2])\n",
        "b.dtype\n"
      ],
      "metadata": {
        "id": "4BvLP-Wn57_O",
        "outputId": "26aa84cd-8b88-4ed9-fefb-da5f2b3d958b",
        "colab": {
          "base_uri": "https://localhost:8080/"
        }
      },
      "execution_count": 8,
      "outputs": [
        {
          "output_type": "execute_result",
          "data": {
            "text/plain": [
              "dtype('float64')"
            ]
          },
          "metadata": {},
          "execution_count": 8
        }
      ]
    },
    {
      "cell_type": "markdown",
      "source": [
        "Asigna el valor de 20 para el segundo elemento del arreglo mostrado"
      ],
      "metadata": {
        "id": "XSVuiJvn6tMA"
      }
    },
    {
      "cell_type": "code",
      "source": [
        "a = np.array([10, 2, 30, 40,50])\n",
        "a[1]=20\n",
        "a"
      ],
      "metadata": {
        "id": "FjwudAiI6z1N",
        "outputId": "74bacc2d-1be0-49f6-ecb1-582605acad9e",
        "colab": {
          "base_uri": "https://localhost:8080/"
        }
      },
      "execution_count": 9,
      "outputs": [
        {
          "output_type": "execute_result",
          "data": {
            "text/plain": [
              "array([10, 20, 30, 40, 50])"
            ]
          },
          "metadata": {},
          "execution_count": 9
        }
      ]
    },
    {
      "cell_type": "markdown",
      "source": [
        "Podemos asignar un array nuevo con elementos de otro"
      ],
      "metadata": {
        "id": "u0e1xl1e7Lcj"
      }
    },
    {
      "cell_type": "code",
      "source": [
        "c = np.array([10, 2, 30, 40,50])\n",
        "d = c[1:4]\n",
        "d"
      ],
      "metadata": {
        "id": "DhniGD1T7QkQ",
        "outputId": "1af590e3-ba89-4cfd-c836-5807f5316b92",
        "colab": {
          "base_uri": "https://localhost:8080/"
        }
      },
      "execution_count": 12,
      "outputs": [
        {
          "output_type": "execute_result",
          "data": {
            "text/plain": [
              "array([ 2, 30, 40])"
            ]
          },
          "metadata": {},
          "execution_count": 12
        }
      ]
    },
    {
      "cell_type": "markdown",
      "source": [
        "Podemos hacer tambien arreglos de inicio y fin deifnidos en la instruccion"
      ],
      "metadata": {
        "id": "IELVZvVy7pBR"
      }
    },
    {
      "cell_type": "code",
      "source": [
        "arr = np.array([1, 2, 3, 4, 5, 6, 7])\n",
        "\n",
        "print(arr[1:5:2])"
      ],
      "metadata": {
        "id": "pEeMJhdA7wiD",
        "outputId": "06ed22fe-df3e-45a5-d61a-6e02c1a66460",
        "colab": {
          "base_uri": "https://localhost:8080/"
        }
      },
      "execution_count": 13,
      "outputs": [
        {
          "output_type": "stream",
          "name": "stdout",
          "text": [
            "[2 4]\n"
          ]
        }
      ]
    },
    {
      "cell_type": "markdown",
      "source": [
        "Imprime cualquier elemento del siguiente arreglo\n",
        "arr = np.array([1, 2, 3, 4, 5, 6, 7, 8])"
      ],
      "metadata": {
        "id": "k11traOC7_kr"
      }
    },
    {
      "cell_type": "code",
      "source": [
        "arr = np.array([1, 2, 3, 4, 5, 6, 7, 8])\n",
        "print(arr[1:8:2])"
      ],
      "metadata": {
        "id": "I6DEXO5L8FPN",
        "outputId": "a315c1f5-e5d8-454e-93e5-41684c4fdaec",
        "colab": {
          "base_uri": "https://localhost:8080/"
        }
      },
      "execution_count": 14,
      "outputs": [
        {
          "output_type": "stream",
          "name": "stdout",
          "text": [
            "[2 4 6 8]\n"
          ]
        }
      ]
    },
    {
      "cell_type": "markdown",
      "source": [
        "Para saber el tamaño del arreglo"
      ],
      "metadata": {
        "id": "Ba7I7OhW8gKF"
      }
    },
    {
      "cell_type": "code",
      "source": [
        "a = np.array([0, 1, 2, 3, 4])\n",
        "a\n",
        "a.size"
      ],
      "metadata": {
        "id": "Dt9DV6Mr8kF0",
        "outputId": "a56b869b-efee-4d29-c429-e860a8385b2d",
        "colab": {
          "base_uri": "https://localhost:8080/"
        }
      },
      "execution_count": 15,
      "outputs": [
        {
          "output_type": "execute_result",
          "data": {
            "text/plain": [
              "5"
            ]
          },
          "metadata": {},
          "execution_count": 15
        }
      ]
    },
    {
      "cell_type": "markdown",
      "source": [
        "# **Funciones estadisticas**"
      ],
      "metadata": {
        "id": "xdZ-ZVoi8-N-"
      }
    },
    {
      "cell_type": "markdown",
      "source": [
        "Para saber el promedio de los datos del arraglo"
      ],
      "metadata": {
        "id": "PErWVTsu9sD-"
      }
    },
    {
      "cell_type": "code",
      "source": [
        "a = np.array([1, -1, 1, -1])\n",
        "mean = a.mean()\n",
        "mean\n"
      ],
      "metadata": {
        "id": "jbpbLIqJ9jR3",
        "outputId": "55110340-9c26-4c48-e1f3-e2714b530af5",
        "colab": {
          "base_uri": "https://localhost:8080/"
        }
      },
      "execution_count": 16,
      "outputs": [
        {
          "output_type": "execute_result",
          "data": {
            "text/plain": [
              "0.0"
            ]
          },
          "metadata": {},
          "execution_count": 16
        }
      ]
    },
    {
      "cell_type": "markdown",
      "source": [
        "para saber la desviacion estandar del arreglo o conjunto de datos"
      ],
      "metadata": {
        "id": "IFvI8ZJV9v_V"
      }
    },
    {
      "cell_type": "code",
      "source": [
        "standard_deviation=a.std()\n",
        "standard_deviation"
      ],
      "metadata": {
        "id": "NaExTjxF91y8",
        "outputId": "b50a4ca7-e6c8-472d-f42d-ad53062095ab",
        "colab": {
          "base_uri": "https://localhost:8080/"
        }
      },
      "execution_count": 17,
      "outputs": [
        {
          "output_type": "execute_result",
          "data": {
            "text/plain": [
              "1.0"
            ]
          },
          "metadata": {},
          "execution_count": 17
        }
      ]
    },
    {
      "cell_type": "markdown",
      "source": [
        "Para saber el valor maximo"
      ],
      "metadata": {
        "id": "IhO7vjaV96zJ"
      }
    },
    {
      "cell_type": "code",
      "source": [
        "max_b = b.max()\n",
        "max_b"
      ],
      "metadata": {
        "id": "v9vFtxxX99w4",
        "outputId": "d82d1b86-315c-4e9c-f4e6-d959e8c4ae1f",
        "colab": {
          "base_uri": "https://localhost:8080/"
        }
      },
      "execution_count": 18,
      "outputs": [
        {
          "output_type": "execute_result",
          "data": {
            "text/plain": [
              "213.2"
            ]
          },
          "metadata": {},
          "execution_count": 18
        }
      ]
    },
    {
      "cell_type": "markdown",
      "source": [
        "Para saber el valor minimo"
      ],
      "metadata": {
        "id": "lLnPx_zm-CSb"
      }
    },
    {
      "cell_type": "code",
      "source": [
        "min_b = b.min()\n",
        "min_b"
      ],
      "metadata": {
        "id": "S7uEIf17-EDm",
        "outputId": "e4c3e79e-caf3-4407-cd8b-a96c32b98f06",
        "colab": {
          "base_uri": "https://localhost:8080/"
        }
      },
      "execution_count": 19,
      "outputs": [
        {
          "output_type": "execute_result",
          "data": {
            "text/plain": [
              "3.1"
            ]
          },
          "metadata": {},
          "execution_count": 19
        }
      ]
    },
    {
      "cell_type": "markdown",
      "source": [
        "**Suma el valor maximo y el valor minimo**"
      ],
      "metadata": {
        "id": "qmq66Onw-NsW"
      }
    },
    {
      "cell_type": "code",
      "source": [
        "c = np.array([-10, 201, 43, 94, 502])\n",
        "max_c = c.max()\n",
        "max_c\n",
        "    \n",
        "min_c = c.min()\n",
        "min_c\n",
        "    \n",
        "    \n",
        "Sum = (max_c +min_c)\n",
        "Sum"
      ],
      "metadata": {
        "id": "eAbP8k-n-TY6",
        "outputId": "7f893843-97da-45e2-e6ed-8c6380198305",
        "colab": {
          "base_uri": "https://localhost:8080/"
        }
      },
      "execution_count": 20,
      "outputs": [
        {
          "output_type": "execute_result",
          "data": {
            "text/plain": [
              "492"
            ]
          },
          "metadata": {},
          "execution_count": 20
        }
      ]
    },
    {
      "cell_type": "markdown",
      "source": [
        "****************************************************************************************************************************************************************"
      ],
      "metadata": {
        "id": "p6AREUSq_f05"
      }
    },
    {
      "cell_type": "markdown",
      "source": [
        "Pregunta 1 - Numero de filas que contiene este arreglo:\n",
        "A = np.array([[1,2],[3,4],[5,6],[7,8]])"
      ],
      "metadata": {
        "id": "vKu5NDmj_kQU"
      }
    },
    {
      "cell_type": "code",
      "source": [
        "A = np.array([[1,2],[3,4],[5,6],[7,8]])\n",
        "a.shape"
      ],
      "metadata": {
        "id": "qoll4Gav_iMx",
        "outputId": "ab0d0753-287e-49f3-e7e1-7d401eb54307",
        "colab": {
          "base_uri": "https://localhost:8080/"
        }
      },
      "execution_count": 22,
      "outputs": [
        {
          "output_type": "execute_result",
          "data": {
            "text/plain": [
              "(4,)"
            ]
          },
          "metadata": {},
          "execution_count": 22
        }
      ]
    },
    {
      "cell_type": "markdown",
      "source": [
        "Pregunta 2 - Is it possible to perform the following operation?"
      ],
      "metadata": {
        "id": "NS8UKAJ6_6w8"
      }
    },
    {
      "cell_type": "code",
      "source": [
        "A = np.array([[1,2],[3,4],[5,6],[7,8]])\n",
        "\n",
        "B = np.array([[1,2,3],[4,5,6],[7,8,9]])\n",
        "\n",
        "np.dot(A,B)"
      ],
      "metadata": {
        "id": "eI1PIfD___rk",
        "outputId": "bd26cc86-e7d8-4471-d94e-4a20e9bb3a75",
        "colab": {
          "base_uri": "https://localhost:8080/",
          "height": 246
        }
      },
      "execution_count": 23,
      "outputs": [
        {
          "output_type": "error",
          "ename": "ValueError",
          "evalue": "ignored",
          "traceback": [
            "\u001b[0;31m---------------------------------------------------------------------------\u001b[0m",
            "\u001b[0;31mValueError\u001b[0m                                Traceback (most recent call last)",
            "\u001b[0;32m<ipython-input-23-e33d7242a78a>\u001b[0m in \u001b[0;36m<module>\u001b[0;34m\u001b[0m\n\u001b[1;32m      3\u001b[0m \u001b[0mB\u001b[0m \u001b[0;34m=\u001b[0m \u001b[0mnp\u001b[0m\u001b[0;34m.\u001b[0m\u001b[0marray\u001b[0m\u001b[0;34m(\u001b[0m\u001b[0;34m[\u001b[0m\u001b[0;34m[\u001b[0m\u001b[0;36m1\u001b[0m\u001b[0;34m,\u001b[0m\u001b[0;36m2\u001b[0m\u001b[0;34m,\u001b[0m\u001b[0;36m3\u001b[0m\u001b[0;34m]\u001b[0m\u001b[0;34m,\u001b[0m\u001b[0;34m[\u001b[0m\u001b[0;36m4\u001b[0m\u001b[0;34m,\u001b[0m\u001b[0;36m5\u001b[0m\u001b[0;34m,\u001b[0m\u001b[0;36m6\u001b[0m\u001b[0;34m]\u001b[0m\u001b[0;34m,\u001b[0m\u001b[0;34m[\u001b[0m\u001b[0;36m7\u001b[0m\u001b[0;34m,\u001b[0m\u001b[0;36m8\u001b[0m\u001b[0;34m,\u001b[0m\u001b[0;36m9\u001b[0m\u001b[0;34m]\u001b[0m\u001b[0;34m]\u001b[0m\u001b[0;34m)\u001b[0m\u001b[0;34m\u001b[0m\u001b[0;34m\u001b[0m\u001b[0m\n\u001b[1;32m      4\u001b[0m \u001b[0;34m\u001b[0m\u001b[0m\n\u001b[0;32m----> 5\u001b[0;31m \u001b[0mnp\u001b[0m\u001b[0;34m.\u001b[0m\u001b[0mdot\u001b[0m\u001b[0;34m(\u001b[0m\u001b[0mA\u001b[0m\u001b[0;34m,\u001b[0m\u001b[0mB\u001b[0m\u001b[0;34m)\u001b[0m\u001b[0;34m\u001b[0m\u001b[0;34m\u001b[0m\u001b[0m\n\u001b[0m",
            "\u001b[0;32m<__array_function__ internals>\u001b[0m in \u001b[0;36mdot\u001b[0;34m(*args, **kwargs)\u001b[0m\n",
            "\u001b[0;31mValueError\u001b[0m: shapes (4,2) and (3,3) not aligned: 2 (dim 1) != 3 (dim 0)"
          ]
        }
      ]
    },
    {
      "cell_type": "markdown",
      "source": [
        "****************************************************************************************************************************************************************"
      ],
      "metadata": {
        "id": "UI-BjoSLAVLQ"
      }
    },
    {
      "cell_type": "markdown",
      "source": [
        "# **2D Numpy in Python**"
      ],
      "metadata": {
        "id": "BTMjbkbPAaMz"
      }
    },
    {
      "cell_type": "markdown",
      "source": [
        "importanfdo librerias"
      ],
      "metadata": {
        "id": "CJ4Tqk-oAfwp"
      }
    },
    {
      "cell_type": "code",
      "source": [
        "a = [[11, 12, 13], [21, 22, 23], [31, 32, 33]]\n",
        "a\n",
        "A = np.array(a)\n",
        "A"
      ],
      "metadata": {
        "id": "Z3_WbAuZA525",
        "outputId": "6078ae8a-d35d-4fbb-f4cc-4b7385ac3c93",
        "colab": {
          "base_uri": "https://localhost:8080/"
        }
      },
      "execution_count": 24,
      "outputs": [
        {
          "output_type": "execute_result",
          "data": {
            "text/plain": [
              "array([[11, 12, 13],\n",
              "       [21, 22, 23],\n",
              "       [31, 32, 33]])"
            ]
          },
          "metadata": {},
          "execution_count": 24
        }
      ]
    },
    {
      "cell_type": "markdown",
      "source": [
        "Accessing different elements of a Numpy Array"
      ],
      "metadata": {
        "id": "825KCWK0BHsA"
      }
    },
    {
      "cell_type": "code",
      "source": [
        "A[1, 2]\n"
      ],
      "metadata": {
        "id": "IUO6RB3eBJgi",
        "outputId": "518d9e53-715f-42d8-8ee6-3ea54013b4a7",
        "colab": {
          "base_uri": "https://localhost:8080/"
        }
      },
      "execution_count": 25,
      "outputs": [
        {
          "output_type": "execute_result",
          "data": {
            "text/plain": [
              "23"
            ]
          },
          "metadata": {},
          "execution_count": 25
        }
      ]
    },
    {
      "cell_type": "markdown",
      "source": [
        "Operaciones basicas con los arrays"
      ],
      "metadata": {
        "id": "aAggdKygBgrq"
      }
    },
    {
      "cell_type": "code",
      "source": [
        "X = np.array([[1, 0], [0, 1]]) \n",
        "X\n",
        "Y = np.array([[2, 1], [1, 2]]) \n",
        "Y\n",
        "Z = X + Y\n",
        "Z"
      ],
      "metadata": {
        "id": "c7NB_iYlBjJX",
        "outputId": "aca395b2-11fa-4440-8d1f-99b03a1786b6",
        "colab": {
          "base_uri": "https://localhost:8080/"
        }
      },
      "execution_count": 27,
      "outputs": [
        {
          "output_type": "execute_result",
          "data": {
            "text/plain": [
              "array([[3, 1],\n",
              "       [1, 3]])"
            ]
          },
          "metadata": {},
          "execution_count": 27
        }
      ]
    }
  ]
}