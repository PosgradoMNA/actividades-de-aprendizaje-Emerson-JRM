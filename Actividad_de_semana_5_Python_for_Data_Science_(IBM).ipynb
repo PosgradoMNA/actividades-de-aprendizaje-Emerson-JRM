{
  "nbformat": 4,
  "nbformat_minor": 0,
  "metadata": {
    "colab": {
      "name": "Actividad_de_semana_4_Python_for_Data_Science_(IBM).ipynb",
      "provenance": [],
      "include_colab_link": true
    },
    "kernelspec": {
      "name": "python3",
      "display_name": "Python 3"
    },
    "language_info": {
      "name": "python"
    }
  },
  "cells": [
    {
      "cell_type": "markdown",
      "metadata": {
        "id": "view-in-github",
        "colab_type": "text"
      },
      "source": [
        "<a href=\"https://colab.research.google.com/github/PosgradoMNA/actividades-de-aprendizaje-Emerson-JRM/blob/main/Actividad_de_semana_5_Python_for_Data_Science_(IBM).ipynb\" target=\"_parent\"><img src=\"https://colab.research.google.com/assets/colab-badge.svg\" alt=\"Open In Colab\"/></a>"
      ]
    },
    {
      "cell_type": "markdown",
      "source": [
        "**Pregunta 1** - What is the result of the following operation: np.array([1,-1])*np.array([1,1])?"
      ],
      "metadata": {
        "id": "-CocxRj6ffll"
      }
    },
    {
      "cell_type": "code",
      "source": [
        "import numpy as np\n",
        "np.array([1,-1])*np.array([1,1])"
      ],
      "metadata": {
        "id": "mxM_WppZPMFx",
        "colab": {
          "base_uri": "https://localhost:8080/"
        },
        "outputId": "9797f21b-dc3b-425f-9363-0c86226789e5"
      },
      "execution_count": 42,
      "outputs": [
        {
          "output_type": "execute_result",
          "data": {
            "text/plain": [
              "array([ 1, -1])"
            ]
          },
          "metadata": {},
          "execution_count": 42
        }
      ]
    },
    {
      "cell_type": "markdown",
      "source": [
        "**En las Matrices, Arreglos o cualquier operacion aritmética cualquier numero multimplicado por la unidad da como resultado 1**"
      ],
      "metadata": {
        "id": "thjI6qAwgVWE"
      }
    },
    {
      "cell_type": "markdown",
      "source": [
        "**Pregunta 2** - What is the result of the following operation: np.dot(np.array([1,-1]),np.array([1,1]))?\n",
        "\n",
        "\n"
      ],
      "metadata": {
        "id": "L9nony40haCW"
      }
    },
    {
      "cell_type": "code",
      "source": [
        "np.dot(np.array([1,-1]),np.array([1,1]))"
      ],
      "metadata": {
        "colab": {
          "base_uri": "https://localhost:8080/"
        },
        "id": "NskyNGFcg2yk",
        "outputId": "91c9cb71-bb45-4d54-83cb-9360d91ddb1d"
      },
      "execution_count": 43,
      "outputs": [
        {
          "output_type": "execute_result",
          "data": {
            "text/plain": [
              "0"
            ]
          },
          "metadata": {},
          "execution_count": 43
        }
      ]
    },
    {
      "cell_type": "markdown",
      "source": [
        "****************************************************************************************************************************************************************"
      ],
      "metadata": {
        "id": "JUiUcqh726Xn"
      }
    },
    {
      "cell_type": "markdown",
      "source": [
        "# **1D Numpy in Python**"
      ],
      "metadata": {
        "id": "PoafviyL9Qz2"
      }
    },
    {
      "cell_type": "markdown",
      "source": [
        "Generacion de Array de una linea, utilizando la libreria Numpy"
      ],
      "metadata": {
        "id": "ADjZJkcX3ELr"
      }
    },
    {
      "cell_type": "code",
      "source": [
        "a = np.array([0, 1, 2, 3, 4])\n",
        "a"
      ],
      "metadata": {
        "colab": {
          "base_uri": "https://localhost:8080/"
        },
        "id": "okv0CwHO3se9",
        "outputId": "c2b30593-d53e-4e5b-dfc9-f19875023e57"
      },
      "execution_count": 44,
      "outputs": [
        {
          "output_type": "execute_result",
          "data": {
            "text/plain": [
              "array([0, 1, 2, 3, 4])"
            ]
          },
          "metadata": {},
          "execution_count": 44
        }
      ]
    },
    {
      "cell_type": "markdown",
      "source": [
        "Puedes Ingresar a cada valor del arreglo usando corchetes, en este caso el arreglo tiene valores de enteros"
      ],
      "metadata": {
        "id": "eNb_QzPi4bF_"
      }
    },
    {
      "cell_type": "code",
      "source": [
        "# Print each element\n",
        "\n",
        "print(\"a[0]:\", a[0])\n",
        "print(\"a[1]:\", a[1])\n",
        "print(\"a[2]:\", a[2])\n",
        "print(\"a[3]:\", a[3])\n",
        "print(\"a[4]:\", a[4])"
      ],
      "metadata": {
        "colab": {
          "base_uri": "https://localhost:8080/"
        },
        "id": "AeEoq1LE4mG9",
        "outputId": "9ae1a43c-de7f-47a0-e81b-6b610ed741a9"
      },
      "execution_count": 45,
      "outputs": [
        {
          "output_type": "stream",
          "name": "stdout",
          "text": [
            "a[0]: 0\n",
            "a[1]: 1\n",
            "a[2]: 2\n",
            "a[3]: 3\n",
            "a[4]: 4\n"
          ]
        }
      ]
    },
    {
      "cell_type": "markdown",
      "source": [
        "La version del Numpy"
      ],
      "metadata": {
        "id": "F8j5gdzH4o63"
      }
    },
    {
      "cell_type": "code",
      "source": [
        "print(np.__version__)"
      ],
      "metadata": {
        "colab": {
          "base_uri": "https://localhost:8080/"
        },
        "id": "0xLqrX4t5GEP",
        "outputId": "927031ab-275c-441b-fd4d-163e72aa555c"
      },
      "execution_count": 46,
      "outputs": [
        {
          "output_type": "stream",
          "name": "stdout",
          "text": [
            "1.21.6\n"
          ]
        }
      ]
    },
    {
      "cell_type": "markdown",
      "source": [
        "El tipo de arreglo que esta mostrado es un flotante de 64 bits\n",
        "\n"
      ],
      "metadata": {
        "id": "iRT42W1d5R9I"
      }
    },
    {
      "cell_type": "code",
      "source": [
        "b = np.array([3.1, 11.02, 6.2, 213.2, 5.2])\n",
        "b.dtype\n"
      ],
      "metadata": {
        "colab": {
          "base_uri": "https://localhost:8080/"
        },
        "id": "4BvLP-Wn57_O",
        "outputId": "2fece047-b434-4116-a243-62c35cac1f8c"
      },
      "execution_count": 47,
      "outputs": [
        {
          "output_type": "execute_result",
          "data": {
            "text/plain": [
              "dtype('float64')"
            ]
          },
          "metadata": {},
          "execution_count": 47
        }
      ]
    },
    {
      "cell_type": "markdown",
      "source": [
        "Asigna el valor de 20 para el segundo elemento del arreglo mostrado"
      ],
      "metadata": {
        "id": "XSVuiJvn6tMA"
      }
    },
    {
      "cell_type": "code",
      "source": [
        "a = np.array([10, 2, 30, 40,50])\n",
        "a[1]=20\n",
        "a"
      ],
      "metadata": {
        "colab": {
          "base_uri": "https://localhost:8080/"
        },
        "id": "FjwudAiI6z1N",
        "outputId": "5a28b97a-cfbb-407d-c5c8-3bf0bc3ee47b"
      },
      "execution_count": 48,
      "outputs": [
        {
          "output_type": "execute_result",
          "data": {
            "text/plain": [
              "array([10, 20, 30, 40, 50])"
            ]
          },
          "metadata": {},
          "execution_count": 48
        }
      ]
    },
    {
      "cell_type": "markdown",
      "source": [
        "Podemos asignar un array nuevo con elementos de otro"
      ],
      "metadata": {
        "id": "u0e1xl1e7Lcj"
      }
    },
    {
      "cell_type": "code",
      "source": [
        "c = np.array([10, 2, 30, 40,50])\n",
        "d = c[1:4]\n",
        "d"
      ],
      "metadata": {
        "colab": {
          "base_uri": "https://localhost:8080/"
        },
        "id": "DhniGD1T7QkQ",
        "outputId": "449e7503-a386-4537-cd57-26b09e0737af"
      },
      "execution_count": 49,
      "outputs": [
        {
          "output_type": "execute_result",
          "data": {
            "text/plain": [
              "array([ 2, 30, 40])"
            ]
          },
          "metadata": {},
          "execution_count": 49
        }
      ]
    },
    {
      "cell_type": "markdown",
      "source": [
        "Podemos hacer tambien arreglos de inicio y fin deifnidos en la instruccion"
      ],
      "metadata": {
        "id": "IELVZvVy7pBR"
      }
    },
    {
      "cell_type": "code",
      "source": [
        "arr = np.array([1, 2, 3, 4, 5, 6, 7])\n",
        "\n",
        "print(arr[1:5:2])"
      ],
      "metadata": {
        "colab": {
          "base_uri": "https://localhost:8080/"
        },
        "id": "pEeMJhdA7wiD",
        "outputId": "6ac6a440-d757-439d-bf63-eaa801d321e7"
      },
      "execution_count": 50,
      "outputs": [
        {
          "output_type": "stream",
          "name": "stdout",
          "text": [
            "[2 4]\n"
          ]
        }
      ]
    },
    {
      "cell_type": "markdown",
      "source": [
        "Imprime cualquier elemento del siguiente arreglo\n",
        "arr = np.array([1, 2, 3, 4, 5, 6, 7, 8])"
      ],
      "metadata": {
        "id": "k11traOC7_kr"
      }
    },
    {
      "cell_type": "code",
      "source": [
        "arr = np.array([1, 2, 3, 4, 5, 6, 7, 8])\n",
        "print(arr[1:8:2])"
      ],
      "metadata": {
        "colab": {
          "base_uri": "https://localhost:8080/"
        },
        "id": "I6DEXO5L8FPN",
        "outputId": "2bfb2f2e-661b-4f5d-9cd5-8dd2d9878876"
      },
      "execution_count": 51,
      "outputs": [
        {
          "output_type": "stream",
          "name": "stdout",
          "text": [
            "[2 4 6 8]\n"
          ]
        }
      ]
    },
    {
      "cell_type": "markdown",
      "source": [
        "Para saber el tamaño del arreglo"
      ],
      "metadata": {
        "id": "Ba7I7OhW8gKF"
      }
    },
    {
      "cell_type": "code",
      "source": [
        "a = np.array([0, 1, 2, 3, 4])\n",
        "a\n",
        "a.size"
      ],
      "metadata": {
        "colab": {
          "base_uri": "https://localhost:8080/"
        },
        "id": "Dt9DV6Mr8kF0",
        "outputId": "708a0ba9-c26b-46a4-87c6-1f156b062ea3"
      },
      "execution_count": 52,
      "outputs": [
        {
          "output_type": "execute_result",
          "data": {
            "text/plain": [
              "5"
            ]
          },
          "metadata": {},
          "execution_count": 52
        }
      ]
    },
    {
      "cell_type": "markdown",
      "source": [
        "# **Funciones estadisticas**"
      ],
      "metadata": {
        "id": "xdZ-ZVoi8-N-"
      }
    },
    {
      "cell_type": "markdown",
      "source": [
        "Para saber el promedio de los datos del arraglo"
      ],
      "metadata": {
        "id": "PErWVTsu9sD-"
      }
    },
    {
      "cell_type": "code",
      "source": [
        "a = np.array([1, -1, 1, -1])\n",
        "mean = a.mean()\n",
        "mean\n"
      ],
      "metadata": {
        "colab": {
          "base_uri": "https://localhost:8080/"
        },
        "id": "jbpbLIqJ9jR3",
        "outputId": "e1803387-fdd5-4780-dba0-0efbe8833bcf"
      },
      "execution_count": 53,
      "outputs": [
        {
          "output_type": "execute_result",
          "data": {
            "text/plain": [
              "0.0"
            ]
          },
          "metadata": {},
          "execution_count": 53
        }
      ]
    },
    {
      "cell_type": "markdown",
      "source": [
        "para saber la desviacion estandar del arreglo o conjunto de datos"
      ],
      "metadata": {
        "id": "IFvI8ZJV9v_V"
      }
    },
    {
      "cell_type": "code",
      "source": [
        "standard_deviation=a.std()\n",
        "standard_deviation"
      ],
      "metadata": {
        "colab": {
          "base_uri": "https://localhost:8080/"
        },
        "id": "NaExTjxF91y8",
        "outputId": "faee0f94-ef4e-466b-b393-4f0d19ed116b"
      },
      "execution_count": 54,
      "outputs": [
        {
          "output_type": "execute_result",
          "data": {
            "text/plain": [
              "1.0"
            ]
          },
          "metadata": {},
          "execution_count": 54
        }
      ]
    },
    {
      "cell_type": "markdown",
      "source": [
        "Para saber el valor maximo"
      ],
      "metadata": {
        "id": "IhO7vjaV96zJ"
      }
    },
    {
      "cell_type": "code",
      "source": [
        "max_b = b.max()\n",
        "max_b"
      ],
      "metadata": {
        "colab": {
          "base_uri": "https://localhost:8080/"
        },
        "id": "v9vFtxxX99w4",
        "outputId": "2a757c3f-3abf-4b0e-cb41-5abf96a0de92"
      },
      "execution_count": 55,
      "outputs": [
        {
          "output_type": "execute_result",
          "data": {
            "text/plain": [
              "213.2"
            ]
          },
          "metadata": {},
          "execution_count": 55
        }
      ]
    },
    {
      "cell_type": "markdown",
      "source": [
        "Para saber el valor minimo"
      ],
      "metadata": {
        "id": "lLnPx_zm-CSb"
      }
    },
    {
      "cell_type": "code",
      "source": [
        "min_b = b.min()\n",
        "min_b"
      ],
      "metadata": {
        "colab": {
          "base_uri": "https://localhost:8080/"
        },
        "id": "S7uEIf17-EDm",
        "outputId": "9d67fa91-095d-4810-dd76-9a0fcc9ae0bb"
      },
      "execution_count": 56,
      "outputs": [
        {
          "output_type": "execute_result",
          "data": {
            "text/plain": [
              "3.1"
            ]
          },
          "metadata": {},
          "execution_count": 56
        }
      ]
    },
    {
      "cell_type": "markdown",
      "source": [
        "**Suma el valor maximo y el valor minimo**"
      ],
      "metadata": {
        "id": "qmq66Onw-NsW"
      }
    },
    {
      "cell_type": "code",
      "source": [
        "c = np.array([-10, 201, 43, 94, 502])\n",
        "max_c = c.max()\n",
        "max_c\n",
        "    \n",
        "min_c = c.min()\n",
        "min_c\n",
        "    \n",
        "    \n",
        "Sum = (max_c +min_c)\n",
        "Sum"
      ],
      "metadata": {
        "colab": {
          "base_uri": "https://localhost:8080/"
        },
        "id": "eAbP8k-n-TY6",
        "outputId": "0c867006-22f5-4578-a62d-0217eac94555"
      },
      "execution_count": 57,
      "outputs": [
        {
          "output_type": "execute_result",
          "data": {
            "text/plain": [
              "492"
            ]
          },
          "metadata": {},
          "execution_count": 57
        }
      ]
    },
    {
      "cell_type": "markdown",
      "source": [
        "****************************************************************************************************************************************************************"
      ],
      "metadata": {
        "id": "p6AREUSq_f05"
      }
    },
    {
      "cell_type": "markdown",
      "source": [
        "Pregunta 1 - Numero de filas que contiene este arreglo:\n",
        "A = np.array([[1,2],[3,4],[5,6],[7,8]])"
      ],
      "metadata": {
        "id": "vKu5NDmj_kQU"
      }
    },
    {
      "cell_type": "code",
      "source": [
        "A = np.array([[1,2],[3,4],[5,6],[7,8]])\n",
        "a.shape"
      ],
      "metadata": {
        "colab": {
          "base_uri": "https://localhost:8080/"
        },
        "id": "qoll4Gav_iMx",
        "outputId": "3e2512a5-23bc-495b-eef2-554c3dfb60a0"
      },
      "execution_count": 58,
      "outputs": [
        {
          "output_type": "execute_result",
          "data": {
            "text/plain": [
              "(4,)"
            ]
          },
          "metadata": {},
          "execution_count": 58
        }
      ]
    },
    {
      "cell_type": "markdown",
      "source": [
        "Pregunta 2 - Is it possible to perform the following operation?"
      ],
      "metadata": {
        "id": "NS8UKAJ6_6w8"
      }
    },
    {
      "cell_type": "code",
      "source": [
        "A = np.array([[1,2],[3,4],[5,6],[7,8]])\n",
        "\n",
        "B = np.array([[1,2,3],[4,5,6],[7,8,9]])\n",
        "\n",
        "np.dot(A,B)"
      ],
      "metadata": {
        "colab": {
          "base_uri": "https://localhost:8080/",
          "height": 246
        },
        "id": "eI1PIfD___rk",
        "outputId": "fe30462a-f44c-40eb-9d1a-4d4c8a6caa6f"
      },
      "execution_count": 61,
      "outputs": [
        {
          "ename": "ValueError",
          "evalue": "ignored",
          "output_type": "error",
          "traceback": [
            "\u001b[0;31m---------------------------------------------------------------------------\u001b[0m",
            "\u001b[0;31mValueError\u001b[0m                                Traceback (most recent call last)",
            "\u001b[0;32m<ipython-input-61-e33d7242a78a>\u001b[0m in \u001b[0;36m<module>\u001b[0;34m\u001b[0m\n\u001b[1;32m      3\u001b[0m \u001b[0mB\u001b[0m \u001b[0;34m=\u001b[0m \u001b[0mnp\u001b[0m\u001b[0;34m.\u001b[0m\u001b[0marray\u001b[0m\u001b[0;34m(\u001b[0m\u001b[0;34m[\u001b[0m\u001b[0;34m[\u001b[0m\u001b[0;36m1\u001b[0m\u001b[0;34m,\u001b[0m\u001b[0;36m2\u001b[0m\u001b[0;34m,\u001b[0m\u001b[0;36m3\u001b[0m\u001b[0;34m]\u001b[0m\u001b[0;34m,\u001b[0m\u001b[0;34m[\u001b[0m\u001b[0;36m4\u001b[0m\u001b[0;34m,\u001b[0m\u001b[0;36m5\u001b[0m\u001b[0;34m,\u001b[0m\u001b[0;36m6\u001b[0m\u001b[0;34m]\u001b[0m\u001b[0;34m,\u001b[0m\u001b[0;34m[\u001b[0m\u001b[0;36m7\u001b[0m\u001b[0;34m,\u001b[0m\u001b[0;36m8\u001b[0m\u001b[0;34m,\u001b[0m\u001b[0;36m9\u001b[0m\u001b[0;34m]\u001b[0m\u001b[0;34m]\u001b[0m\u001b[0;34m)\u001b[0m\u001b[0;34m\u001b[0m\u001b[0;34m\u001b[0m\u001b[0m\n\u001b[1;32m      4\u001b[0m \u001b[0;34m\u001b[0m\u001b[0m\n\u001b[0;32m----> 5\u001b[0;31m \u001b[0mnp\u001b[0m\u001b[0;34m.\u001b[0m\u001b[0mdot\u001b[0m\u001b[0;34m(\u001b[0m\u001b[0mA\u001b[0m\u001b[0;34m,\u001b[0m\u001b[0mB\u001b[0m\u001b[0;34m)\u001b[0m\u001b[0;34m\u001b[0m\u001b[0;34m\u001b[0m\u001b[0m\n\u001b[0m",
            "\u001b[0;32m<__array_function__ internals>\u001b[0m in \u001b[0;36mdot\u001b[0;34m(*args, **kwargs)\u001b[0m\n",
            "\u001b[0;31mValueError\u001b[0m: shapes (4,2) and (3,3) not aligned: 2 (dim 1) != 3 (dim 0)"
          ]
        }
      ]
    },
    {
      "cell_type": "markdown",
      "source": [
        "****************************************************************************************************************************************************************"
      ],
      "metadata": {
        "id": "UI-BjoSLAVLQ"
      }
    },
    {
      "cell_type": "markdown",
      "source": [
        "# **2D Numpy in Python**"
      ],
      "metadata": {
        "id": "BTMjbkbPAaMz"
      }
    },
    {
      "cell_type": "markdown",
      "source": [
        "importanfdo librerias"
      ],
      "metadata": {
        "id": "CJ4Tqk-oAfwp"
      }
    },
    {
      "cell_type": "code",
      "source": [
        "a = [[11, 12, 13], [21, 22, 23], [31, 32, 33]]\n",
        "a\n",
        "A = np.array(a)\n",
        "A"
      ],
      "metadata": {
        "colab": {
          "base_uri": "https://localhost:8080/"
        },
        "id": "Z3_WbAuZA525",
        "outputId": "f09f5b7d-f4c9-4dcc-de91-bf772664258f"
      },
      "execution_count": 62,
      "outputs": [
        {
          "data": {
            "text/plain": [
              "array([[11, 12, 13],\n",
              "       [21, 22, 23],\n",
              "       [31, 32, 33]])"
            ]
          },
          "execution_count": 62,
          "metadata": {},
          "output_type": "execute_result"
        }
      ]
    },
    {
      "cell_type": "markdown",
      "source": [
        "Accessing different elements of a Numpy Array"
      ],
      "metadata": {
        "id": "825KCWK0BHsA"
      }
    },
    {
      "cell_type": "code",
      "source": [
        "A[1, 2]\n"
      ],
      "metadata": {
        "colab": {
          "base_uri": "https://localhost:8080/"
        },
        "id": "IUO6RB3eBJgi",
        "outputId": "08fc8909-94bf-4afa-ff65-01752c675a4d"
      },
      "execution_count": 63,
      "outputs": [
        {
          "data": {
            "text/plain": [
              "23"
            ]
          },
          "execution_count": 63,
          "metadata": {},
          "output_type": "execute_result"
        }
      ]
    },
    {
      "cell_type": "markdown",
      "source": [
        "Operaciones basicas con los arrays"
      ],
      "metadata": {
        "id": "aAggdKygBgrq"
      }
    },
    {
      "cell_type": "code",
      "source": [
        "X = np.array([[1, 0], [0, 1]]) \n",
        "X\n",
        "Y = np.array([[2, 1], [1, 2]]) \n",
        "Y\n",
        "Z = X + Y\n",
        "Z"
      ],
      "metadata": {
        "colab": {
          "base_uri": "https://localhost:8080/"
        },
        "id": "c7NB_iYlBjJX",
        "outputId": "c20371b9-81fd-453c-c308-af6503dfe48f"
      },
      "execution_count": 64,
      "outputs": [
        {
          "data": {
            "text/plain": [
              "array([[3, 1],\n",
              "       [1, 3]])"
            ]
          },
          "execution_count": 64,
          "metadata": {},
          "output_type": "execute_result"
        }
      ]
    },
    {
      "cell_type": "markdown",
      "source": [
        "Quiz on 2D Numpy Array"
      ],
      "metadata": {
        "id": "RphGO3FPCIze"
      }
    },
    {
      "cell_type": "markdown",
      "source": [
        "Consider the following list a, convert it to Numpy Array.\n",
        "a = [[1, 2, 3, 4], [5, 6, 7, 8], [9, 10, 11, 12]]"
      ],
      "metadata": {
        "id": "MXFO73JUCPRR"
      }
    },
    {
      "cell_type": "code",
      "source": [
        "a = [[1, 2, 3, 4], [5, 6, 7, 8], [9, 10, 11, 12]]\n",
        "A = np.array(a)\n",
        "A"
      ],
      "metadata": {
        "colab": {
          "base_uri": "https://localhost:8080/"
        },
        "id": "e6DinVMrCKS5",
        "outputId": "a5ea638c-4d37-44b8-9f0a-64530c484667"
      },
      "execution_count": 65,
      "outputs": [
        {
          "data": {
            "text/plain": [
              "array([[ 1,  2,  3,  4],\n",
              "       [ 5,  6,  7,  8],\n",
              "       [ 9, 10, 11, 12]])"
            ]
          },
          "execution_count": 65,
          "metadata": {},
          "output_type": "execute_result"
        }
      ]
    },
    {
      "cell_type": "markdown",
      "source": [
        "calcular el numero de arreglo"
      ],
      "metadata": {
        "id": "tU6gxF5ACdfZ"
      }
    },
    {
      "cell_type": "code",
      "source": [
        "A.size"
      ],
      "metadata": {
        "colab": {
          "base_uri": "https://localhost:8080/"
        },
        "id": "3CmPFrpzCg5t",
        "outputId": "b96d60c9-1cda-4dae-f828-a5f12cd63a15"
      },
      "execution_count": 66,
      "outputs": [
        {
          "data": {
            "text/plain": [
              "12"
            ]
          },
          "execution_count": 66,
          "metadata": {},
          "output_type": "execute_result"
        }
      ]
    },
    {
      "cell_type": "markdown",
      "source": [
        "Access the element on the first row and first and second columns."
      ],
      "metadata": {
        "id": "cY33TANKCs5I"
      }
    },
    {
      "cell_type": "code",
      "source": [
        "A[0][0:2]\n"
      ],
      "metadata": {
        "colab": {
          "base_uri": "https://localhost:8080/"
        },
        "id": "jWiMLGTuCttF",
        "outputId": "c2349c8c-9485-4442-d4d1-caafac40224a"
      },
      "execution_count": 67,
      "outputs": [
        {
          "data": {
            "text/plain": [
              "array([1, 2])"
            ]
          },
          "execution_count": 67,
          "metadata": {},
          "output_type": "execute_result"
        }
      ]
    },
    {
      "cell_type": "markdown",
      "source": [
        "Perform matrix multiplication with the numpy arrays A and B."
      ],
      "metadata": {
        "id": "nHv44KKrCzJ0"
      }
    },
    {
      "cell_type": "code",
      "source": [
        "B = np.array([[0, 1], [1, 0], [1, 1], [-1, 0]])\n",
        "X = np.dot(A,B)\n",
        "X"
      ],
      "metadata": {
        "colab": {
          "base_uri": "https://localhost:8080/"
        },
        "id": "UMiUeZ8ZCzyl",
        "outputId": "b60b4a9f-a918-406a-d9bd-d533273cc24a"
      },
      "execution_count": 68,
      "outputs": [
        {
          "data": {
            "text/plain": [
              "array([[ 1,  4],\n",
              "       [ 5, 12],\n",
              "       [ 9, 20]])"
            ]
          },
          "execution_count": 68,
          "metadata": {},
          "output_type": "execute_result"
        }
      ]
    },
    {
      "cell_type": "markdown",
      "source": [
        "****************************************************************************************************************************************************************"
      ],
      "metadata": {
        "id": "RO8MUAa5Fv8V"
      }
    },
    {
      "cell_type": "markdown",
      "source": [
        "# **HTTP and Requests**"
      ],
      "metadata": {
        "id": "Je1CqXmEF1bn"
      }
    },
    {
      "cell_type": "markdown",
      "source": [
        "Requests is a Python Library that allows you to send <code>HTTP/1.1</code> requests easily. We can import the library as follows:\n"
      ],
      "metadata": {
        "id": "xMzTeCzDF745"
      }
    },
    {
      "cell_type": "code",
      "source": [
        "import requests\n",
        "import os \n",
        "from PIL import Image\n",
        "from IPython.display import IFrame"
      ],
      "metadata": {
        "id": "VFR19dbmGG9P"
      },
      "execution_count": 69,
      "outputs": []
    },
    {
      "cell_type": "markdown",
      "source": [
        "You can make a <code>GET</code> request via the method <code>get</code> to [www.ibm.com](http://www.ibm.com/?"
      ],
      "metadata": {
        "id": "5veCScdoGSXW"
      }
    },
    {
      "cell_type": "code",
      "source": [
        "url='https://www.ibm.com/'\n",
        "r=requests.get(url)"
      ],
      "metadata": {
        "id": "RmMFnASVGTtD"
      },
      "execution_count": 70,
      "outputs": []
    },
    {
      "cell_type": "markdown",
      "source": [
        "We have the response object <code>r</code>, this has information about the request, like the status of the request. We can view the status code using the attribute <code>status_code</code>.\n"
      ],
      "metadata": {
        "id": "eCmMzrvOGXX4"
      }
    },
    {
      "cell_type": "code",
      "source": [
        "r.status_code"
      ],
      "metadata": {
        "colab": {
          "base_uri": "https://localhost:8080/"
        },
        "id": "TmaXB32zGiRA",
        "outputId": "b5b83077-072c-4c53-d5b4-1549b106860d"
      },
      "execution_count": 71,
      "outputs": [
        {
          "data": {
            "text/plain": [
              "200"
            ]
          },
          "execution_count": 71,
          "metadata": {},
          "output_type": "execute_result"
        }
      ]
    },
    {
      "cell_type": "markdown",
      "source": [
        "You can view the request headers:\n"
      ],
      "metadata": {
        "id": "emh9W_nUGszv"
      }
    },
    {
      "cell_type": "code",
      "source": [
        "print(r.request.headers)"
      ],
      "metadata": {
        "colab": {
          "base_uri": "https://localhost:8080/"
        },
        "id": "e0Un0bJzGtkm",
        "outputId": "a7bc0e33-02cd-4b8f-a08a-e89d620d9690"
      },
      "execution_count": 72,
      "outputs": [
        {
          "metadata": {
            "tags": null
          },
          "name": "stdout",
          "output_type": "stream",
          "text": [
            "{'User-Agent': 'python-requests/2.23.0', 'Accept-Encoding': 'gzip, deflate', 'Accept': '*/*', 'Connection': 'keep-alive', 'Cookie': '_abck=DB43A542C3EA23C0E0F0A01C38AF4656~-1~YAAQyhwhFw0lKqSDAQAANlEhpQhIQjLVJLLBBA34BDrzp33tQTDPPc5USmRQTi5rcYKPT3YC730xxKYC0ctlQ+6gy0IJgxgOGdcUyVy93pCi3SWISGC+mN7Jcuv9zSmyQONoiTvuHV1jTc+oZVgwVfS5rVpxSYilKn19NJIYvlH/auAfPUiH50vuhlgXQzgVrR8nkjr1jI6tRPENITU/oowIzemaiNkAkMc3aVoJ3a3feBJycJiwbdASSrHJwytDqG/xk+DSuVJLsLnXghEagUt+EXcE7cStC+zPkbiPPA7/IYfZGSGtiw8bcPRduJSyoZMHp1t9RjXWlBdaLAidsTXhGwL5+edtq4HqXhpaG+nOKA7z9UQ=~-1~-1~-1; bm_sz=E383E4652EEF0A0C52EC81DE39212685~YAAQyhwhFw4lKqSDAQAANlEhpRHefn3ZGOIngsPCL9tOprXLGzPAMt+dBv9u4F5G0KpaTlEfIllogpjEW8zWomHg0SMKSUv9dwNfnOiPb+7G5iO3sojldPQ2q1TS0M6Az/53wibwTtxxrZDIWljYFJHG1hK5GW0a5P/4cvN9N3n8fXDdl3lAvBYH0Al1BBFjMJTSxdJl0A/NB6JhFZ/GwbD+4xfRG+7r+GkUMcEgDM4YhEVRhPHvsDvGUNKtTflAonZ3EFr39HryyDie4iZIIQsIxKmEd0QYt0pje9xTylg=~3355969~3556147'}\n"
          ]
        }
      ]
    },
    {
      "cell_type": "markdown",
      "source": [
        "You can view the request body, in the following line, as there is no body for a get request we get a <code>None</code>:\n"
      ],
      "metadata": {
        "id": "T5zl-zlfG3Ob"
      }
    },
    {
      "cell_type": "code",
      "source": [
        "print(\"request body:\", r.request.body)"
      ],
      "metadata": {
        "colab": {
          "base_uri": "https://localhost:8080/"
        },
        "id": "fHyxxpuAG3_l",
        "outputId": "96e65651-5184-4475-9906-f36cb14f0cc6"
      },
      "execution_count": 73,
      "outputs": [
        {
          "metadata": {
            "tags": null
          },
          "name": "stdout",
          "output_type": "stream",
          "text": [
            "request body: None\n"
          ]
        }
      ]
    },
    {
      "cell_type": "markdown",
      "source": [
        "You can view the <code>HTTP</code> response header using the attribute <code>headers</code>. This returns a python dictionary of <code>HTTP</code> response headers.\n"
      ],
      "metadata": {
        "id": "n4tx_TFwG-NN"
      }
    },
    {
      "cell_type": "code",
      "source": [
        "header=r.headers\n",
        "print(r.headers)\n"
      ],
      "metadata": {
        "colab": {
          "base_uri": "https://localhost:8080/"
        },
        "id": "7k8yVQWrG_FN",
        "outputId": "b7f2c947-8768-4cf6-e1a3-ab731386857c"
      },
      "execution_count": 74,
      "outputs": [
        {
          "metadata": {
            "tags": null
          },
          "name": "stdout",
          "output_type": "stream",
          "text": [
            "{'Server': 'Apache', 'Last-Modified': 'Mon, 03 Oct 2022 12:34:16 GMT', 'ETag': '\"17fce-5ea208fcd503e-gzip\"', 'Accept-Ranges': 'bytes', 'Content-Encoding': 'gzip', 'Content-Type': 'text/html', 'Cache-Control': 'max-age=3600', 'Expires': 'Tue, 04 Oct 2022 23:32:47 GMT', 'X-Akamai-Transformed': '9 21227 0 pmb=mTOE,2', 'Date': 'Tue, 04 Oct 2022 22:32:47 GMT', 'Content-Length': '21404', 'Connection': 'keep-alive', 'Vary': 'Accept-Encoding', 'x-content-type-options': 'nosniff', 'X-XSS-Protection': '1; mode=block', 'Content-Security-Policy': 'upgrade-insecure-requests', 'Strict-Transport-Security': 'max-age=31536000'}\n"
          ]
        }
      ]
    },
    {
      "cell_type": "markdown",
      "source": [
        "We can obtain the date the request was sent using the key <code>Date</code>\n"
      ],
      "metadata": {
        "id": "VH42cad9HSfe"
      }
    },
    {
      "cell_type": "code",
      "source": [
        "header['date']"
      ],
      "metadata": {
        "colab": {
          "base_uri": "https://localhost:8080/",
          "height": 36
        },
        "id": "r5CKCq8wHTIa",
        "outputId": "f31e8685-2ca3-4027-a82c-b3473cc78bf8"
      },
      "execution_count": 75,
      "outputs": [
        {
          "data": {
            "application/vnd.google.colaboratory.intrinsic+json": {
              "type": "string"
            },
            "text/plain": [
              "'Tue, 04 Oct 2022 22:32:47 GMT'"
            ]
          },
          "execution_count": 75,
          "metadata": {},
          "output_type": "execute_result"
        }
      ]
    },
    {
      "cell_type": "markdown",
      "source": [
        "<code>Content-Type</code> indicates the type of data:"
      ],
      "metadata": {
        "id": "JIL8YMN5HkRs"
      }
    },
    {
      "cell_type": "code",
      "source": [
        "header['Content-Type']"
      ],
      "metadata": {
        "colab": {
          "base_uri": "https://localhost:8080/",
          "height": 36
        },
        "id": "w9QTwl3zHmJt",
        "outputId": "2569bc4d-5a30-4be7-a3d1-5c584c0fcd31"
      },
      "execution_count": 78,
      "outputs": [
        {
          "output_type": "execute_result",
          "data": {
            "text/plain": [
              "'text/html'"
            ],
            "application/vnd.google.colaboratory.intrinsic+json": {
              "type": "string"
            }
          },
          "metadata": {},
          "execution_count": 78
        }
      ]
    },
    {
      "cell_type": "markdown",
      "source": [
        "You can also check the encoding:"
      ],
      "metadata": {
        "id": "qySN_3Z6HtLW"
      }
    },
    {
      "cell_type": "code",
      "source": [
        " r.encoding"
      ],
      "metadata": {
        "colab": {
          "base_uri": "https://localhost:8080/",
          "height": 36
        },
        "id": "A8ApwcmHHug4",
        "outputId": "89ed4617-3d0d-4249-d998-c576a3bcce45"
      },
      "execution_count": 77,
      "outputs": [
        {
          "data": {
            "application/vnd.google.colaboratory.intrinsic+json": {
              "type": "string"
            },
            "text/plain": [
              "'ISO-8859-1'"
            ]
          },
          "execution_count": 77,
          "metadata": {},
          "output_type": "execute_result"
        }
      ]
    },
    {
      "cell_type": "markdown",
      "source": [
        "As the Content-Type is text/html we can use the attribute text to display the HTML in the body. We can review the first 100 characters:"
      ],
      "metadata": {
        "id": "F7p6pIHAH1CX"
      }
    },
    {
      "cell_type": "code",
      "source": [
        "r.text[0:100]"
      ],
      "metadata": {
        "colab": {
          "base_uri": "https://localhost:8080/",
          "height": 36
        },
        "id": "mmVbq_fnH3wo",
        "outputId": "2220deda-25cc-4421-8327-123ddb61bb52"
      },
      "execution_count": 60,
      "outputs": [
        {
          "data": {
            "application/vnd.google.colaboratory.intrinsic+json": {
              "type": "string"
            },
            "text/plain": [
              "'<!DOCTYPE html><html lang=\"en-US\"><head><meta name=\"viewport\" content=\"width=device-width\"/><meta ch'"
            ]
          },
          "execution_count": 60,
          "metadata": {},
          "output_type": "execute_result"
        }
      ]
    },
    {
      "cell_type": "markdown",
      "source": [
        "****************************************************************************************************************************************************************"
      ],
      "metadata": {
        "id": "BJUQ8eJYI7R5"
      }
    },
    {
      "cell_type": "markdown",
      "source": [
        "# **Simple APIs**"
      ],
      "metadata": {
        "id": "P7u9qkZ_JBh2"
      }
    },
    {
      "cell_type": "markdown",
      "source": [
        "To start using the API you can install the `randomuser` library running the `pip install` command.\n"
      ],
      "metadata": {
        "id": "DjQZ-5YVJLZQ"
      }
    },
    {
      "cell_type": "code",
      "source": [
        "!pip install randomuser"
      ],
      "metadata": {
        "id": "bLKwAvi9JBEV",
        "outputId": "490cba06-7875-4639-d50c-70a70edbe508",
        "colab": {
          "base_uri": "https://localhost:8080/"
        }
      },
      "execution_count": 79,
      "outputs": [
        {
          "output_type": "stream",
          "name": "stdout",
          "text": [
            "Looking in indexes: https://pypi.org/simple, https://us-python.pkg.dev/colab-wheels/public/simple/\n",
            "Collecting randomuser\n",
            "  Downloading randomuser-1.6.tar.gz (5.0 kB)\n",
            "Building wheels for collected packages: randomuser\n",
            "  Building wheel for randomuser (setup.py) ... \u001b[?25l\u001b[?25hdone\n",
            "  Created wheel for randomuser: filename=randomuser-1.6-py3-none-any.whl size=5084 sha256=f31177956c2813af6093265ae6f783fd027d91905a011a8d498deecb82938bd1\n",
            "  Stored in directory: /root/.cache/pip/wheels/21/10/7b/c13bc3e24a3c1000a34554802ad8aa0ff27df56366998a0473\n",
            "Successfully built randomuser\n",
            "Installing collected packages: randomuser\n",
            "Successfully installed randomuser-1.6\n"
          ]
        }
      ]
    },
    {
      "cell_type": "markdown",
      "source": [
        "Then, we will load the necessary libraries.\n"
      ],
      "metadata": {
        "id": "y35dUe-_JTfj"
      }
    },
    {
      "cell_type": "code",
      "source": [
        "from randomuser import RandomUser\n",
        "import pandas as pd"
      ],
      "metadata": {
        "id": "grz52jIDJW1q"
      },
      "execution_count": 81,
      "outputs": []
    },
    {
      "cell_type": "markdown",
      "source": [
        "First, we will create a random user object, r.\n"
      ],
      "metadata": {
        "id": "-JfNsrWQJbCL"
      }
    },
    {
      "cell_type": "code",
      "source": [
        "r = RandomUser()"
      ],
      "metadata": {
        "id": "65j3BoPYJdfY"
      },
      "execution_count": 82,
      "outputs": []
    },
    {
      "cell_type": "markdown",
      "source": [
        "Then, using `generate_users()` function, we get a list of random 10 users."
      ],
      "metadata": {
        "id": "yxgFoaU_JkHT"
      }
    },
    {
      "cell_type": "code",
      "source": [
        "some_list = r.generate_users(10)\n",
        "some_list"
      ],
      "metadata": {
        "id": "FIc7VhE1JycB",
        "outputId": "cf287e7f-f016-47fe-a9e7-86abf90e619f",
        "colab": {
          "base_uri": "https://localhost:8080/"
        }
      },
      "execution_count": 83,
      "outputs": [
        {
          "output_type": "execute_result",
          "data": {
            "text/plain": [
              "[<randomuser.RandomUser at 0x7f0dcf4b5b50>,\n",
              " <randomuser.RandomUser at 0x7f0dcf4b5b90>,\n",
              " <randomuser.RandomUser at 0x7f0dcf4b5bd0>,\n",
              " <randomuser.RandomUser at 0x7f0dcf4b5c10>,\n",
              " <randomuser.RandomUser at 0x7f0dcf4b5c50>,\n",
              " <randomuser.RandomUser at 0x7f0dcf4b5cd0>,\n",
              " <randomuser.RandomUser at 0x7f0dcf4b5d10>,\n",
              " <randomuser.RandomUser at 0x7f0dcf4b5d50>,\n",
              " <randomuser.RandomUser at 0x7f0dcf4b5d90>,\n",
              " <randomuser.RandomUser at 0x7f0dcf4b5c90>]"
            ]
          },
          "metadata": {},
          "execution_count": 83
        }
      ]
    },
    {
      "cell_type": "markdown",
      "source": [
        "Let's say we only need 10 users with full names and their email addresses. We can write a \"for-loop\" to print these 10 users.\n"
      ],
      "metadata": {
        "id": "FW8S-9-9JpR2"
      }
    },
    {
      "cell_type": "code",
      "source": [
        "for user in some_list:\n",
        "    print (user.get_full_name(),\" \",user.get_email())"
      ],
      "metadata": {
        "id": "B6gohnkiKTEq",
        "outputId": "825cfdde-67f3-495a-8e46-817beaac687a",
        "colab": {
          "base_uri": "https://localhost:8080/"
        }
      },
      "execution_count": 84,
      "outputs": [
        {
          "output_type": "stream",
          "name": "stdout",
          "text": [
            "Ronald Fleming   ronald.fleming@example.com\n",
            "Sofia Herrera   sofia.herrera@example.com\n",
            "Henry Evans   henry.evans@example.com\n",
            "Matas Warsame   matas.warsame@example.com\n",
            "Dino Holzner   dino.holzner@example.com\n",
            "Leah Lucas   leah.lucas@example.com\n",
            "Emilia Laitinen   emilia.laitinen@example.com\n",
            "Salvador Santos   salvador.santos@example.com\n",
            "Harper Brar   harper.brar@example.com\n",
            "Kornelius Håpnes   kornelius.hapnes@example.com\n"
          ]
        }
      ]
    },
    {
      "cell_type": "markdown",
      "source": [
        "****************************************************************************************************************************************************************"
      ],
      "metadata": {
        "id": "0TWMfyrcKymr"
      }
    },
    {
      "cell_type": "markdown",
      "source": [
        "# Review Questions"
      ],
      "metadata": {
        "id": "JuURtvFtLTCt"
      }
    },
    {
      "cell_type": "markdown",
      "source": [
        "What is the result of the following lines of code:"
      ],
      "metadata": {
        "id": "-SHmOU9zLzqi"
      }
    },
    {
      "cell_type": "code",
      "source": [
        "a=np.array([0,1,0,1,0])\n",
        "\n",
        "b=np.array([1,0,1,0,1])\n",
        "\n",
        "a*b"
      ],
      "metadata": {
        "id": "aHRhopDSL6si",
        "outputId": "2004233c-b9e0-4e7d-d979-5072e95122c9",
        "colab": {
          "base_uri": "https://localhost:8080/"
        }
      },
      "execution_count": 85,
      "outputs": [
        {
          "output_type": "execute_result",
          "data": {
            "text/plain": [
              "array([0, 0, 0, 0, 0])"
            ]
          },
          "metadata": {},
          "execution_count": 85
        }
      ]
    },
    {
      "cell_type": "markdown",
      "source": [
        "What is the result of the following lines of code:"
      ],
      "metadata": {
        "id": "mWqrn4PoMFjU"
      }
    },
    {
      "cell_type": "code",
      "source": [
        "a=np.array([0,1])\n",
        "\n",
        "b=np.array([1,0])\n",
        "\n",
        "np.dot(a,b)"
      ],
      "metadata": {
        "id": "Y1PADGt9MH4W",
        "outputId": "df30398c-34fe-4cbe-bfd8-0e04b73ed8e8",
        "colab": {
          "base_uri": "https://localhost:8080/"
        }
      },
      "execution_count": 86,
      "outputs": [
        {
          "output_type": "execute_result",
          "data": {
            "text/plain": [
              "0"
            ]
          },
          "metadata": {},
          "execution_count": 86
        }
      ]
    },
    {
      "cell_type": "markdown",
      "source": [
        "What is the result of the following lines of code:"
      ],
      "metadata": {
        "id": "7JC6evfmMNmY"
      }
    },
    {
      "cell_type": "code",
      "source": [
        "a=np.array([1,1,1,1,1])\n",
        "\n",
        "a+10"
      ],
      "metadata": {
        "id": "6FPMnTFVMRu_",
        "outputId": "4f7ba2a4-35ef-4636-a841-f08e593d3d71",
        "colab": {
          "base_uri": "https://localhost:8080/"
        }
      },
      "execution_count": 87,
      "outputs": [
        {
          "output_type": "execute_result",
          "data": {
            "text/plain": [
              "array([11, 11, 11, 11, 11])"
            ]
          },
          "metadata": {},
          "execution_count": 87
        }
      ]
    }
  ]
}